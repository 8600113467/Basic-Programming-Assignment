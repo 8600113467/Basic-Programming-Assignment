{
 "cells": [
  {
   "cell_type": "markdown",
   "id": "776ba546-4e54-4f67-a590-ae38b6ec4061",
   "metadata": {},
   "source": [
    "## Basic Programming Assignment No.10"
   ]
  },
  {
   "cell_type": "code",
   "execution_count": null,
   "id": "8cf98790-8e2e-44f9-948e-24eba2312dbe",
   "metadata": {},
   "outputs": [],
   "source": [
    "1. Write a Python program to find sum of elements in list?\n",
    "2. Write a Python program to Multiply all numbers in the list?\n",
    "3. Write a Python program to find smallest number in a list?\n",
    "4. Write a Python program to find largest number in a list?\n",
    "5. Write a Python program to find second largest number in a list?\n",
    "6. Write a Python program to find N largest elements from a list?\n",
    "7. Write a Python program to print even numbers in a list?\n",
    "8. Write a Python program to print odd numbers in a List?\n",
    "9. Write a Python program to Remove empty List from List?\n",
    "10. Write a Python program to Cloning or Copying a list?\n",
    "11. Write a Python program to Count occurrences of an element in a list?"
   ]
  },
  {
   "cell_type": "code",
   "execution_count": null,
   "id": "d1f1d270-2220-4a69-b4a4-09ebdf0c0172",
   "metadata": {},
   "outputs": [],
   "source": [
    "1.Write a Python Program to find sum of elements in a list ?"
   ]
  },
  {
   "cell_type": "code",
   "execution_count": 7,
   "id": "6798dca7-1915-403a-a407-bb4d984d5144",
   "metadata": {},
   "outputs": [
    {
     "name": "stdout",
     "output_type": "stream",
     "text": [
      "9\n"
     ]
    }
   ],
   "source": [
    "sumoflist=[1,2,3,4]\n",
    "sum=()\n",
    "for i in a:\n",
    "    sum=i+(i+1)\n",
    "print(sum)\n",
    "    "
   ]
  },
  {
   "cell_type": "code",
   "execution_count": null,
   "id": "675bfec8-0dad-479f-b898-7014ec3addf7",
   "metadata": {},
   "outputs": [],
   "source": [
    "2.Write a Python Program to multiply all numbers in the list ?"
   ]
  },
  {
   "cell_type": "code",
   "execution_count": 4,
   "id": "87d1829e-7d07-4dce-b55a-e909237c8751",
   "metadata": {},
   "outputs": [
    {
     "data": {
      "text/plain": [
       "20"
      ]
     },
     "execution_count": 4,
     "metadata": {},
     "output_type": "execute_result"
    }
   ],
   "source": [
    "def multiplication():\n",
    "    list=[1,2,3,4]\n",
    "    sum=()\n",
    "    for i in list:\n",
    "        sum=i*(i+1)\n",
    "    return sum\n",
    "\n",
    "multiplication()"
   ]
  },
  {
   "cell_type": "code",
   "execution_count": null,
   "id": "56736124-7318-4113-97be-318da3859394",
   "metadata": {},
   "outputs": [],
   "source": [
    "3.Write a Python Program to find smallest number in the list ?"
   ]
  },
  {
   "cell_type": "code",
   "execution_count": 27,
   "id": "3e15dbe2-ca8d-4567-b10e-4d1095e7f514",
   "metadata": {},
   "outputs": [
    {
     "name": "stdout",
     "output_type": "stream",
     "text": [
      "[1, 2, 3, 4, 5, 6, 8]\n",
      "smallest num is  1\n"
     ]
    }
   ],
   "source": [
    "def smallestnum():\n",
    "    list=[2,4,5,6,3,8,1]\n",
    "    list.sort()\n",
    "    print(list)\n",
    "    print(\"smallest num is \", list[0])\n",
    "\n",
    "smallestnum()"
   ]
  },
  {
   "cell_type": "code",
   "execution_count": null,
   "id": "044774e0-42ac-46e8-81cc-4287d706fa67",
   "metadata": {},
   "outputs": [],
   "source": [
    "4.Write a Python Program to find largest number in the list ?"
   ]
  },
  {
   "cell_type": "code",
   "execution_count": 29,
   "id": "db8b819a-c0df-4a8d-9f69-dfdf15291c86",
   "metadata": {},
   "outputs": [
    {
     "name": "stdout",
     "output_type": "stream",
     "text": [
      "[1, 2, 3, 4, 5, 6, 8]\n",
      "largest num is  8\n"
     ]
    }
   ],
   "source": [
    "def largestnum():\n",
    "    list=[2,4,5,6,3,8,1]\n",
    "    list.sort()\n",
    "    print(list)\n",
    "    print(\"largest num is \", list[-1])\n",
    "\n",
    "largestnum()"
   ]
  },
  {
   "cell_type": "code",
   "execution_count": null,
   "id": "5753e8c1-72fe-4d24-976c-b5b64e2bed6f",
   "metadata": {},
   "outputs": [],
   "source": [
    "5.Write a Python Program to find second largest number in the list ?"
   ]
  },
  {
   "cell_type": "code",
   "execution_count": 30,
   "id": "abecacb0-951a-4ba9-9fce-ed109d932587",
   "metadata": {},
   "outputs": [
    {
     "name": "stdout",
     "output_type": "stream",
     "text": [
      "[1, 2, 3, 4, 5, 6, 8]\n",
      "second largest num is  6\n"
     ]
    }
   ],
   "source": [
    "def seclargestnum():\n",
    "    list=[2,4,5,6,3,8,1]\n",
    "    list.sort()\n",
    "    print(list)\n",
    "    print(\"second largest num is \", list[-2])\n",
    "\n",
    "seclargestnum()"
   ]
  },
  {
   "cell_type": "code",
   "execution_count": null,
   "id": "50e257fb-8ee9-45cf-a120-c81c8e92d234",
   "metadata": {},
   "outputs": [],
   "source": [
    "6.Write a Python Program to find N largest elements in the list ?"
   ]
  },
  {
   "cell_type": "code",
   "execution_count": null,
   "id": "38d326ed-39d1-496c-b417-35361fb38e00",
   "metadata": {},
   "outputs": [],
   "source": [
    "7.Write a Python Program to find even numbers in the list ?"
   ]
  },
  {
   "cell_type": "code",
   "execution_count": 7,
   "id": "03f70a2b-f4f6-4ae5-93e6-f3e75d320470",
   "metadata": {},
   "outputs": [],
   "source": [
    "def evennum():\n",
    "    in_ele = int(input('Enter the No of elements in a list: '))\n",
    "    in_list = []\n",
    "    even_list = []\n",
    "    for ele in range(in_ele):\n",
    "        in_list.append(int(input('Enter a Element: ')))\n",
    "    for ele in in_list:\n",
    "        if ele%2 == 0:\n",
    "            even_list.append(ele)\n",
    "    print(f'The Even Elements in the list {in_list} are {even_list}')"
   ]
  },
  {
   "cell_type": "code",
   "execution_count": 8,
   "id": "02113fc3-b718-4446-9930-d1dff2b77c16",
   "metadata": {},
   "outputs": [
    {
     "name": "stdin",
     "output_type": "stream",
     "text": [
      "Enter the No of elements in a list:  5\n",
      "Enter a Element:  23\n",
      "Enter a Element:  53\n",
      "Enter a Element:  44\n",
      "Enter a Element:  86\n",
      "Enter a Element:  98\n"
     ]
    },
    {
     "name": "stdout",
     "output_type": "stream",
     "text": [
      "The Even Elements in the list [23, 53, 44, 86, 98] are [44, 86, 98]\n"
     ]
    }
   ],
   "source": [
    "evennum()"
   ]
  },
  {
   "cell_type": "code",
   "execution_count": null,
   "id": "60769449-12f6-4acf-ac54-8f8d4fd33b45",
   "metadata": {},
   "outputs": [],
   "source": [
    "8.Write a Python Program to find odd numbers in the list ?"
   ]
  },
  {
   "cell_type": "code",
   "execution_count": 9,
   "id": "d727776d-1ce3-415a-823b-3e122c31274f",
   "metadata": {},
   "outputs": [],
   "source": [
    "def oddNoInList():\n",
    "    in_ele = int(input('Enter the No of elements in a list: '))\n",
    "    in_list = []\n",
    "    odd_list = []\n",
    "    for ele in range(in_ele):\n",
    "        in_list.append(int(input('Enter a Element: ')))\n",
    "    for ele in in_list:\n",
    "        if ele%2 != 0:\n",
    "            odd_list.append(ele)\n",
    "    print(f'The Even Elements in {in_list} are {odd_list}')"
   ]
  },
  {
   "cell_type": "code",
   "execution_count": 10,
   "id": "194422db-7eb3-4782-aa34-fe5887a29a1c",
   "metadata": {},
   "outputs": [
    {
     "name": "stdin",
     "output_type": "stream",
     "text": [
      "Enter the No of elements in a list:  7\n",
      "Enter a Element:  3\n",
      "Enter a Element:  4\n",
      "Enter a Element:  87\n",
      "Enter a Element:  65\n",
      "Enter a Element:  54\n",
      "Enter a Element:  999\n",
      "Enter a Element:  465\n"
     ]
    },
    {
     "name": "stdout",
     "output_type": "stream",
     "text": [
      "The Even Elements in [3, 4, 87, 65, 54, 999, 465] are [3, 87, 65, 999, 465]\n"
     ]
    }
   ],
   "source": [
    "oddNoInList()"
   ]
  },
  {
   "cell_type": "code",
   "execution_count": null,
   "id": "1d92bb3c-3d71-4bbd-92ce-36eb16df4e16",
   "metadata": {},
   "outputs": [],
   "source": [
    "9.Write a Python Program to remove empty list from list ?"
   ]
  },
  {
   "cell_type": "code",
   "execution_count": 7,
   "id": "9429f6b2-ddaf-41ae-b912-a6a795caec9f",
   "metadata": {},
   "outputs": [],
   "source": [
    "def checkEmptyList():\n",
    "    in_list = eval(input('Enter all elements of the list: '))\n",
    "    if [] in in_list:\n",
    "        print(f'There is an Empty list in {in_list} at Position {in_list.index([])}')\n",
    "        in_list.remove([])\n",
    "        print(f'The List after removing [] is {in_list}')\n",
    "    else:\n",
    "        print(f'There is no [] List in the list {in_list}')"
   ]
  },
  {
   "cell_type": "code",
   "execution_count": 11,
   "id": "4ac58058-36dd-469b-9381-c37732cc105d",
   "metadata": {},
   "outputs": [
    {
     "name": "stdin",
     "output_type": "stream",
     "text": [
      "Enter all elements of the list:  [1,2,3,4,[],6,7]\n"
     ]
    },
    {
     "name": "stdout",
     "output_type": "stream",
     "text": [
      "There is an Empty list in [1, 2, 3, 4, [], 6, 7] at Position 4\n",
      "The List after removing [] is [1, 2, 3, 4, 6, 7]\n"
     ]
    }
   ],
   "source": [
    "checkEmptyList()"
   ]
  },
  {
   "cell_type": "code",
   "execution_count": null,
   "id": "8e772562-82b7-4f2e-9243-8ed126091752",
   "metadata": {},
   "outputs": [],
   "source": [
    "10.Write a Python Program to Cloning or Copying a list ?"
   ]
  },
  {
   "cell_type": "code",
   "execution_count": 3,
   "id": "b9293246-12f3-4775-80a3-df517dc6dc69",
   "metadata": {},
   "outputs": [],
   "source": [
    "def cloneList():\n",
    "    in_list = eval(input('Enter a list'))\n",
    "    print(in_list)\n",
    "    cloned_list = in_list.copy()\n",
    "    print(cloned_list)"
   ]
  },
  {
   "cell_type": "code",
   "execution_count": 4,
   "id": "4c375aaa-2df2-43ac-9984-0b8bd57c1c46",
   "metadata": {},
   "outputs": [
    {
     "name": "stdin",
     "output_type": "stream",
     "text": [
      "Enter a list 1,23,4,5,6\n"
     ]
    },
    {
     "name": "stdout",
     "output_type": "stream",
     "text": [
      "(1, 23, 4, 5, 6)\n"
     ]
    },
    {
     "ename": "AttributeError",
     "evalue": "'tuple' object has no attribute 'copy'",
     "output_type": "error",
     "traceback": [
      "\u001b[0;31m---------------------------------------------------------------------------\u001b[0m",
      "\u001b[0;31mAttributeError\u001b[0m                            Traceback (most recent call last)",
      "Cell \u001b[0;32mIn [4], line 1\u001b[0m\n\u001b[0;32m----> 1\u001b[0m \u001b[43mcloneList\u001b[49m\u001b[43m(\u001b[49m\u001b[43m)\u001b[49m\n",
      "Cell \u001b[0;32mIn [3], line 4\u001b[0m, in \u001b[0;36mcloneList\u001b[0;34m()\u001b[0m\n\u001b[1;32m      2\u001b[0m in_list \u001b[38;5;241m=\u001b[39m \u001b[38;5;28meval\u001b[39m(\u001b[38;5;28minput\u001b[39m(\u001b[38;5;124m'\u001b[39m\u001b[38;5;124mEnter a list\u001b[39m\u001b[38;5;124m'\u001b[39m))\n\u001b[1;32m      3\u001b[0m \u001b[38;5;28mprint\u001b[39m(in_list)\n\u001b[0;32m----> 4\u001b[0m cloned_list \u001b[38;5;241m=\u001b[39m \u001b[43min_list\u001b[49m\u001b[38;5;241;43m.\u001b[39;49m\u001b[43mcopy\u001b[49m()\n\u001b[1;32m      5\u001b[0m \u001b[38;5;28mprint\u001b[39m(cloned_list)\n",
      "\u001b[0;31mAttributeError\u001b[0m: 'tuple' object has no attribute 'copy'"
     ]
    }
   ],
   "source": [
    "cloneList()"
   ]
  },
  {
   "cell_type": "code",
   "execution_count": null,
   "id": "f7dc7b3f-4bd8-4d1d-8b61-cad5d16c869f",
   "metadata": {},
   "outputs": [],
   "source": [
    "11.Write a Python Program to count occurences of an element in a list ?"
   ]
  },
  {
   "cell_type": "code",
   "execution_count": 1,
   "id": "f163cf3b-6b7c-498b-a2db-8fd8d4fd80b8",
   "metadata": {},
   "outputs": [],
   "source": [
    "def checkOccurence():\n",
    "    in_list = eval(input('Enter the elements of the list: '))\n",
    "    in_num = eval(input('Enter the element to find: '))\n",
    "    count = 0\n",
    "    if in_num in in_list:\n",
    "        for ele in in_list:\n",
    "            if ele == in_num:\n",
    "                count = count+1\n",
    "    print(f'There are {count} occurences of {in_num} in {in_list}')"
   ]
  },
  {
   "cell_type": "code",
   "execution_count": 5,
   "id": "881da757-fe98-4894-9ca7-64bbe03edc69",
   "metadata": {},
   "outputs": [
    {
     "name": "stdin",
     "output_type": "stream",
     "text": [
      "Enter the elements of the list:  1,2,3,4,5,1,2,1,1,6\n",
      "Enter the element to find:  1\n"
     ]
    },
    {
     "name": "stdout",
     "output_type": "stream",
     "text": [
      "There are 4 occurences of 1 in (1, 2, 3, 4, 5, 1, 2, 1, 1, 6)\n"
     ]
    }
   ],
   "source": [
    "checkOccurence()"
   ]
  },
  {
   "cell_type": "code",
   "execution_count": null,
   "id": "3a8da4f3-cb32-4c41-82bc-7a49b7c96a18",
   "metadata": {},
   "outputs": [],
   "source": [
    "\n",
    "Assignment 10 Solutions\n",
    "1.Write a Python Program to find sum of elements in a list ?\n",
    "def sumofList():\n",
    "    in_ele = int(input('Enter the No of Entries in a List: '))\n",
    "    in_list = []\n",
    "    for itr in range(in_ele):\n",
    "        in_list.append(int(input('Enter a element: ')))\n",
    "    print(f'Sum of Elements: {sum(in_list)}')\n",
    "\n",
    "sumofList()\n",
    "Enter the No of Entries in a List: 5\n",
    "Enter a element: 1\n",
    "Enter a element: 2\n",
    "Enter a element: 3\n",
    "Enter a element: 4\n",
    "Enter a element: 5\n",
    "Sum of Elements: 15\n",
    "2.Write a Python Program to multiply all numbers in the list ?\n",
    "def mulofList():\n",
    "    in_ele = int(input('Enter the No of Entries in a List: '))\n",
    "    in_list = []\n",
    "    mul = 1\n",
    "    for itr in range(in_ele):\n",
    "        in_list.append(int(input('Enter a element: ')))\n",
    "    for ele in in_list:\n",
    "        mul = mul * ele\n",
    "    print(mul)\n",
    "\n",
    "mulofList()\n",
    "Enter the No of Entries in a List: 5\n",
    "Enter a element: 1\n",
    "Enter a element: 2\n",
    "Enter a element: 3\n",
    "Enter a element: 4\n",
    "Enter a element: 5\n",
    "120\n",
    "3.Write a Python Program to find smallest number in the list ?\n",
    "def smallEleInList():\n",
    "    in_ele = int(input('Enter the No of elements in a list: '))\n",
    "    in_list = []\n",
    "    for ele in range(in_ele):\n",
    "        in_list.append(int(input('Enter a Element: ')))\n",
    "    print(f'The Smallest Element in {in_list} is {sorted(in_list)[0]}')\n",
    "smallEleInList()\n",
    "Enter the No of elements in a list: 5\n",
    "Enter a Element: 34\n",
    "Enter a Element: 56\n",
    "Enter a Element: 67\n",
    "Enter a Element: 87\n",
    "Enter a Element: 12\n",
    "The Smallest Element in [34, 56, 67, 87, 12] is 12\n",
    "4.Write a Python Program to find largest number in the list ?\n",
    "def largestEleInList():\n",
    "    in_ele = int(input('Enter the No of elements in a list: '))\n",
    "    in_list = []\n",
    "    for ele in range(in_ele):\n",
    "        in_list.append(int(input('Enter a Element: ')))\n",
    "    print(f'The Largest Element in {in_list} is {sorted(in_list, reverse=True)[0]}')\n",
    "\n",
    "largestEleInList()\n",
    "Enter the No of elements in a list: 12\n",
    "Enter a Element: 10\n",
    "Enter a Element: 98\n",
    "Enter a Element: 12\n",
    "Enter a Element: 14\n",
    "Enter a Element: 15\n",
    "Enter a Element: 65\n",
    "Enter a Element: 76\n",
    "Enter a Element: 87\n",
    "Enter a Element: 34\n",
    "Enter a Element: 56\n",
    "Enter a Element: 87\n",
    "Enter a Element: 34\n",
    "The Largest Element in [10, 98, 12, 14, 15, 65, 76, 87, 34, 56, 87, 34] is 98\n",
    "5.Write a Python Program to find second largest number in the list ?\n",
    "def secondLargestEleInList():\n",
    "    in_ele = int(input('Enter the No of elements in a list: '))\n",
    "    in_list = []\n",
    "    for ele in range(in_ele):\n",
    "        in_list.append(int(input('Enter a Element: ')))\n",
    "    print(f'The Second Largest Element in {in_list} is {sorted(in_list, reverse=True)[1]}')\n",
    "\n",
    "secondLargestEleInList()\n",
    "Enter the No of elements in a list: 5\n",
    "Enter a Element: 12\n",
    "Enter a Element: 13\n",
    "Enter a Element: 14\n",
    "Enter a Element: 15\n",
    "Enter a Element: 16\n",
    "The Second Largest Element in [12, 13, 14, 15, 16] is 15\n",
    "6.Write a Python Program to find N largest elements in the list ?\n",
    "def nLargestEleInList(k):\n",
    "    in_ele = int(input('Enter the No of elements in a list: '))\n",
    "    in_list = []\n",
    "    for ele in range(in_ele):\n",
    "        in_list.append(int(input('Enter a Element: ')))\n",
    "    print(f'The {k} Largest Element in {in_list} is {sorted(in_list, reverse=True)[0:k]}')\n",
    "\n",
    "nLargestEleInList(4)\n",
    "Enter the No of elements in a list: 10\n",
    "Enter a Element: 1\n",
    "Enter a Element: 2\n",
    "Enter a Element: 3\n",
    "Enter a Element: 4\n",
    "Enter a Element: 5\n",
    "Enter a Element: 6\n",
    "Enter a Element: 7\n",
    "Enter a Element: 8\n",
    "Enter a Element: 9\n",
    "Enter a Element: 10\n",
    "The 4 Largest Element in [1, 2, 3, 4, 5, 6, 7, 8, 9, 10] is [10, 9, 8, 7]\n",
    "7.Write a Python Program to find even numbers in the list ?\n",
    "def evenNoInList():\n",
    "    in_ele = int(input('Enter the No of elements in a list: '))\n",
    "    in_list = []\n",
    "    even_list = []\n",
    "    for ele in range(in_ele):\n",
    "        in_list.append(int(input('Enter a Element: ')))\n",
    "    for ele in in_list:\n",
    "        if ele%2 == 0:\n",
    "            even_list.append(ele)\n",
    "    print(f'The Even Elements in {in_list} are {even_list}')\n",
    "\n",
    "evenNoInList()\n",
    "Enter the No of elements in a list: 6\n",
    "Enter a Element: 1\n",
    "Enter a Element: 2\n",
    "Enter a Element: 3\n",
    "Enter a Element: 4\n",
    "Enter a Element: 5\n",
    "Enter a Element: 6\n",
    "The Even Elements in [1, 2, 3, 4, 5, 6] are [2, 4, 6]\n",
    "8.Write a Python Program to find odd numbers in the list ?\n",
    "def oddNoInList():\n",
    "    in_ele = int(input('Enter the No of elements in a list: '))\n",
    "    in_list = []\n",
    "    odd_list = []\n",
    "    for ele in range(in_ele):\n",
    "        in_list.append(int(input('Enter a Element: ')))\n",
    "    for ele in in_list:\n",
    "        if ele%2 != 0:\n",
    "            odd_list.append(ele)\n",
    "    print(f'The Even Elements in {in_list} are {odd_list}')\n",
    "\n",
    "oddNoInList()\n",
    "Enter the No of elements in a list: 6\n",
    "Enter a Element: 1\n",
    "Enter a Element: 2\n",
    "Enter a Element: 3\n",
    "Enter a Element: 4\n",
    "Enter a Element: 5\n",
    "Enter a Element: 6\n",
    "The Even Elements in [1, 2, 3, 4, 5, 6] are [1, 3, 5]\n",
    "9.Write a Python Program to remove empty list from list ?\n",
    "def checkEmptyList():\n",
    "    in_list = eval(input('Enter all elements of the list: '))\n",
    "    if [] in in_list:\n",
    "        print(f'There is an Empty list in {in_list} at Position {in_list.index([])}')\n",
    "        in_list.remove([])\n",
    "        print(f'The List after removing [] is {in_list}')\n",
    "    else:\n",
    "        print(f'There is no [] List in the list {in_list}')\n",
    "        \n",
    "checkEmptyList()\n",
    "Enter all elements of the list: [1,2,3,4,5,[],6,7,8,9,0]\n",
    "There is an Empty list in [1, 2, 3, 4, 5, [], 6, 7, 8, 9, 0] at Position 5\n",
    "The List after removing [] is [1, 2, 3, 4, 5, 6, 7, 8, 9, 0]\n",
    "10.Write a Python Program to Cloning or Copying a list ?\n",
    "import copy\n",
    "\n",
    "def cloneList():\n",
    "    in_list = eval(input('Enter a list'))\n",
    "    print(in_list, id(in_list))\n",
    "    cloned_list = in_list.copy()\n",
    "    print(cloned_list, id(cloned_list))\n",
    "\n",
    "cloneList()\n",
    "Enter a list[1,2,3,4,5,6,7,8,9,0]\n",
    "[1, 2, 3, 4, 5, 6, 7, 8, 9, 0] 1804715913280\n",
    "[1, 2, 3, 4, 5, 6, 7, 8, 9, 0] 1804715963072\n",
    "11.Write a Python Program to count occurences of an element in a list ?\n",
    "def checkOccurence():\n",
    "    in_list = eval(input('Enter the elements of the list: '))\n",
    "    in_num = eval(input('Enter the element to find: '))\n",
    "    count = 0\n",
    "    if in_num in in_list:\n",
    "        for ele in in_list:\n",
    "            if ele == in_num:\n",
    "                count = count+1\n",
    "    print(f'There are {count} occurences of {in_num} in {in_list}')\n",
    "    \n",
    "checkOccurence()\n",
    "Enter the elements of the list: [1,2,3,1,2,3,1,2,3,4,5,6,4,5,6]\n",
    "Enter the element to find: 6\n",
    "There are 2 occurences of 6 in [1, 2, 3, 1, 2, 3, 1, 2, 3, 4, 5, 6, 4, 5, 6]"
   ]
  }
 ],
 "metadata": {
  "kernelspec": {
   "display_name": "Python 3 (ipykernel)",
   "language": "python",
   "name": "python3"
  },
  "language_info": {
   "codemirror_mode": {
    "name": "ipython",
    "version": 3
   },
   "file_extension": ".py",
   "mimetype": "text/x-python",
   "name": "python",
   "nbconvert_exporter": "python",
   "pygments_lexer": "ipython3",
   "version": "3.10.6"
  }
 },
 "nbformat": 4,
 "nbformat_minor": 5
}
