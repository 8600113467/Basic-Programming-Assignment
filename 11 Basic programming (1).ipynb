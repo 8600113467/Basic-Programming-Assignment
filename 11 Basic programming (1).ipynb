{
 "cells": [
  {
   "cell_type": "markdown",
   "id": "2d8c526d-dc41-4384-bde0-a265cc6dd032",
   "metadata": {},
   "source": [
    "## Basic Programming Assignment No. 11"
   ]
  },
  {
   "cell_type": "code",
   "execution_count": null,
   "id": "2648d65a-33bc-4760-8efe-a0b0037c14e5",
   "metadata": {},
   "outputs": [],
   "source": [
    "1. Write a Python program to find words which are greater than given length k ?"
   ]
  },
  {
   "cell_type": "code",
   "execution_count": 3,
   "id": "e8fbd326-95c9-4211-a123-b0959f3efe3a",
   "metadata": {},
   "outputs": [],
   "source": [
    "def wordlengh():\n",
    "    string = input(\"Enter the string: \")\n",
    "    length = int(input('Enter the length of the string: '))\n",
    "    out_string = []\n",
    "    for string in string.split(\" \"):\n",
    "        if len(string) > length:\n",
    "            out_string.append(string)\n",
    "    print(','.join(out_string))"
   ]
  },
  {
   "cell_type": "code",
   "execution_count": 4,
   "id": "b6afb777-fc14-4575-a122-23ab02474a02",
   "metadata": {},
   "outputs": [
    {
     "name": "stdin",
     "output_type": "stream",
     "text": [
      "Enter the string:  INeuron Full Stack Data Science Course is Awesome\n",
      "Enter the length of the string:  4\n"
     ]
    },
    {
     "name": "stdout",
     "output_type": "stream",
     "text": [
      "INeuron,Stack,Science,Course,Awesome\n"
     ]
    }
   ],
   "source": [
    "wordlengh()"
   ]
  },
  {
   "cell_type": "code",
   "execution_count": null,
   "id": "b26cfddb-46a2-4cf7-82b7-ebf71c9105b0",
   "metadata": {},
   "outputs": [],
   "source": [
    "2. Write a Python program for removing i-th character from a string ?"
   ]
  },
  {
   "cell_type": "code",
   "execution_count": 5,
   "id": "c4d26a55-6b6d-4939-ac61-599ebe5eb244",
   "metadata": {},
   "outputs": [],
   "source": [
    "def removeCharacter():\n",
    "    in_string = input(\"Enter the String: \")\n",
    "    in_char_num = int(input(\"Enter the ith Character: \"))\n",
    "    out_string = ''\n",
    "    for ele in range(len(in_string)):\n",
    "        if ele != in_char_num:\n",
    "            out_string = out_string + in_string[ele]\n",
    "    print(out_string)"
   ]
  },
  {
   "cell_type": "code",
   "execution_count": 6,
   "id": "7c308289-1e61-437c-afa5-a5326c1e5fbc",
   "metadata": {},
   "outputs": [
    {
     "name": "stdin",
     "output_type": "stream",
     "text": [
      "Enter the String:  akshay\n",
      "Enter the ith Character:  2\n"
     ]
    },
    {
     "name": "stdout",
     "output_type": "stream",
     "text": [
      "akhay\n"
     ]
    }
   ],
   "source": [
    "removeCharacter()\n"
   ]
  },
  {
   "cell_type": "code",
   "execution_count": null,
   "id": "fdc8afff-dbb5-4364-a86c-a2a90ea12eaa",
   "metadata": {},
   "outputs": [],
   "source": [
    "3. Write a Python program to split and join a string ?"
   ]
  },
  {
   "cell_type": "code",
   "execution_count": 15,
   "id": "e8e56d0d-64f0-440c-b2e1-9e56941416ef",
   "metadata": {},
   "outputs": [
    {
     "name": "stdin",
     "output_type": "stream",
     "text": [
      "Enter the string:  apple banana mango\n"
     ]
    },
    {
     "name": "stdout",
     "output_type": "stream",
     "text": [
      "splited string ['apple', 'banana', 'mango']\n"
     ]
    },
    {
     "name": "stdin",
     "output_type": "stream",
     "text": [
      "Enter the string:  all are good fruits\n"
     ]
    },
    {
     "name": "stdout",
     "output_type": "stream",
     "text": [
      "joined string a.l.l. .a.r.e. .g.o.o.d. .f.r.u.i.t.s\n"
     ]
    }
   ],
   "source": [
    "def test():\n",
    "    string = input('Enter the string: ')\n",
    "    print(\"splited string\",string.split())\n",
    "    string1 = input('Enter the string: ')\n",
    "    print(\"joined string\", \".\".join(string1))\n",
    "    \n",
    "test()"
   ]
  },
  {
   "cell_type": "code",
   "execution_count": null,
   "id": "043a0274-6fe0-4860-8e0d-26a1e24180e0",
   "metadata": {},
   "outputs": [],
   "source": [
    "4. Write a Python to check if a given string is binary string or not ?"
   ]
  },
  {
   "cell_type": "code",
   "execution_count": 10,
   "id": "3ca796a9-99f1-4401-a80d-f0f895de1af3",
   "metadata": {},
   "outputs": [],
   "source": [
    "def checkBinary():\n",
    "    in_string = input('Enter the string: ')\n",
    "    stun = 0\n",
    "    for ele in in_string:\n",
    "        if ele in ['0','1']:\n",
    "            stun = 1\n",
    "            continue\n",
    "        else:\n",
    "            stun = 0\n",
    "            break\n",
    "    statement = 'is a binary string' if stun == 1 else 'is not a binart string' \n",
    "    print(f'{in_string} {statement}')"
   ]
  },
  {
   "cell_type": "code",
   "execution_count": 11,
   "id": "47983251-a201-49b2-8618-1d60ae2ae6f5",
   "metadata": {},
   "outputs": [
    {
     "name": "stdin",
     "output_type": "stream",
     "text": [
      "Enter the string:  1234\n"
     ]
    },
    {
     "name": "stdout",
     "output_type": "stream",
     "text": [
      "1234 is not a binart string\n"
     ]
    }
   ],
   "source": [
    "checkBinary()\n"
   ]
  },
  {
   "cell_type": "code",
   "execution_count": null,
   "id": "ec6f0122-5ca9-4561-8e23-0fb736def125",
   "metadata": {},
   "outputs": [],
   "source": [
    "5. Write a Python program to find uncommon words from two Strings ?"
   ]
  },
  {
   "cell_type": "code",
   "execution_count": 13,
   "id": "1749b82b-f969-4699-b730-241c31481e1e",
   "metadata": {},
   "outputs": [],
   "source": [
    "def unCommonWords():\n",
    "    in_string_1 = set(input(\"Enter the String 1: \").split(' '))\n",
    "    in_string_2 = set(input(\"Enter the String 2: \").split(' '))\n",
    "    out_string = (in_string_1.union(in_string_2)).difference(in_string_1.intersection(in_string_2))\n",
    "    print(out_string)"
   ]
  },
  {
   "cell_type": "code",
   "execution_count": 14,
   "id": "ee3b4b60-5d85-4284-8376-c17158107455",
   "metadata": {},
   "outputs": [
    {
     "name": "stdin",
     "output_type": "stream",
     "text": [
      "Enter the String 1:  AKSHAY PATIL\n",
      "Enter the String 2:  PRAGYA PATIL\n"
     ]
    },
    {
     "name": "stdout",
     "output_type": "stream",
     "text": [
      "{'PRAGYA', 'AKSHAY'}\n"
     ]
    }
   ],
   "source": [
    "unCommonWords()"
   ]
  },
  {
   "cell_type": "code",
   "execution_count": null,
   "id": "fcf9ded2-7650-403f-9736-96c5fe100198",
   "metadata": {},
   "outputs": [],
   "source": [
    "6. Write a Python to find all duplicate characters in string ?"
   ]
  },
  {
   "cell_type": "code",
   "execution_count": 17,
   "id": "067f4b4a-17ee-470b-b202-162b81d7f354",
   "metadata": {},
   "outputs": [],
   "source": [
    "def duplicateChars():\n",
    "    in_string = input('Enter the string: ')\n",
    "    non_duplicate_list = []\n",
    "    duplicate_list = []\n",
    "    for ele in in_string:\n",
    "        if ele not in non_duplicate_list:\n",
    "            non_duplicate_list.append(ele)\n",
    "        else:\n",
    "            duplicate_list.append(ele)\n",
    "    print(f'Duplicate characters are: {list(set(duplicate_list))}')"
   ]
  },
  {
   "cell_type": "code",
   "execution_count": 21,
   "id": "2dff6461-d9b2-42ab-be76-8ac232305853",
   "metadata": {},
   "outputs": [
    {
     "name": "stdin",
     "output_type": "stream",
     "text": [
      "Enter the string:  123243411\n"
     ]
    },
    {
     "name": "stdout",
     "output_type": "stream",
     "text": [
      "Duplicate characters are: ['3', '1', '4', '2']\n"
     ]
    }
   ],
   "source": [
    "duplicateChars()"
   ]
  },
  {
   "cell_type": "code",
   "execution_count": null,
   "id": "2d0e47fd-d275-4575-a832-61b5b40290c4",
   "metadata": {},
   "outputs": [],
   "source": [
    "7. Write a Python Program to check if a string contains any special character?"
   ]
  },
  {
   "cell_type": "code",
   "execution_count": 1,
   "id": "b2ba4b54-acbd-447f-83ea-855de76ddeac",
   "metadata": {},
   "outputs": [
    {
     "name": "stdin",
     "output_type": "stream",
     "text": [
      "Enter the string:  DS @ Ineuron by Sudhanshu & krish\n"
     ]
    },
    {
     "name": "stdout",
     "output_type": "stream",
     "text": [
      "There are 2 Speical Characters in DS @ Ineuron by Sudhanshu & krish which are ['@', '&']\n"
     ]
    },
    {
     "name": "stdin",
     "output_type": "stream",
     "text": [
      "Enter the string:  Full Metal Alchemist : Brotherhood\n"
     ]
    },
    {
     "name": "stdout",
     "output_type": "stream",
     "text": [
      "There are 1 Speical Characters in Full Metal Alchemist : Brotherhood which are [':']\n"
     ]
    }
   ],
   "source": [
    "def checkSpecialChar():\n",
    "    spl_chars = '[@_!#$%^&*()<>?/\\|}{~:]'\n",
    "    in_num = input('Enter the string: ')\n",
    "    count = 0\n",
    "    char_list = []\n",
    "    for ele in in_num:\n",
    "        if ele in spl_chars:\n",
    "            char_list.append(ele)\n",
    "            count = count+1\n",
    "    print(f'There are {count} Speical Characters in {in_num} which are {char_list}')\n",
    "            \n",
    "        \n",
    "checkSpecialChar()\n",
    "checkSpecialChar()"
   ]
  }
 ],
 "metadata": {
  "kernelspec": {
   "display_name": "Python 3 (ipykernel)",
   "language": "python",
   "name": "python3"
  },
  "language_info": {
   "codemirror_mode": {
    "name": "ipython",
    "version": 3
   },
   "file_extension": ".py",
   "mimetype": "text/x-python",
   "name": "python",
   "nbconvert_exporter": "python",
   "pygments_lexer": "ipython3",
   "version": "3.10.6"
  }
 },
 "nbformat": 4,
 "nbformat_minor": 5
}
