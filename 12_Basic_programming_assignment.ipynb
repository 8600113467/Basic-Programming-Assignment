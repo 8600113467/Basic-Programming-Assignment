{
 "cells": [
  {
   "cell_type": "markdown",
   "id": "8c148f70-11cc-4e7f-9f4d-a8249b3296b0",
   "metadata": {},
   "source": [
    "## Basic Programming Assignment No. 12"
   ]
  },
  {
   "cell_type": "code",
   "execution_count": null,
   "id": "37620343-cbe6-4088-b5e1-dcebef950f94",
   "metadata": {},
   "outputs": [],
   "source": [
    "1.Write a Python program to Extract Unique values dictionary values?\n",
    "2.Write a Python program to find the sum of all items in a dictionary?\n",
    "3.Write a Python program to Merging two Dictionaries?\n",
    "4.Write a Python program to convert key-values list to flat dictionary?\n",
    "5.Write a Python program to insertion at the beginning in OrderedDict?\n",
    "6.Write a Python program to check order of character in string using OrderedDict()?\n",
    "7.Write a Python program to sort Python Dictionaries by Key or Value?"
   ]
  },
  {
   "cell_type": "code",
   "execution_count": null,
   "id": "22d895de-00f3-407e-833a-33f6f28921e7",
   "metadata": {},
   "outputs": [],
   "source": [
    "1.Write a Python program to Extract Unique values dictionary values?"
   ]
  },
  {
   "cell_type": "code",
   "execution_count": 1,
   "id": "edbba25e-0a48-4c13-9c00-4eeffaadc71c",
   "metadata": {},
   "outputs": [
    {
     "name": "stdout",
     "output_type": "stream",
     "text": [
      "[1, 2, 3]\n"
     ]
    }
   ],
   "source": [
    "sample_dict = {'a': 1, 'b': 2, 'c': 1, 'd': 3, 'e': 2}\n",
    "\n",
    "# Extract unique values from dictionary values\n",
    "unique_values = list(set(sample_dict.values()))\n",
    "\n",
    "print(unique_values)\n"
   ]
  },
  {
   "cell_type": "code",
   "execution_count": null,
   "id": "e0fda67b-ddbc-4a4e-8214-28dc5c42dd20",
   "metadata": {},
   "outputs": [],
   "source": [
    "2.Write a Python program to find the sum of all items in a dictionary?\n"
   ]
  },
  {
   "cell_type": "code",
   "execution_count": 2,
   "id": "3b4df0bf-f3da-4cf5-9776-c36018118a89",
   "metadata": {},
   "outputs": [
    {
     "name": "stdout",
     "output_type": "stream",
     "text": [
      "100\n"
     ]
    }
   ],
   "source": [
    "# Sample dictionary with numeric values\n",
    "numeric_dict = {'a': 10, 'b': 20, 'c': 30, 'd': 40}\n",
    "\n",
    "# Calculate the sum of all items in the dictionary\n",
    "total_sum = sum(numeric_dict.values())\n",
    "\n",
    "print(total_sum)\n"
   ]
  },
  {
   "cell_type": "code",
   "execution_count": null,
   "id": "66721570-1d10-485c-949c-e586a64a0cfa",
   "metadata": {},
   "outputs": [],
   "source": [
    "3.Write a Python program to Merging two Dictionaries?\n"
   ]
  },
  {
   "cell_type": "code",
   "execution_count": 14,
   "id": "cf2a3171-ed57-4e6e-84a6-646eeb3beedb",
   "metadata": {},
   "outputs": [
    {
     "name": "stdout",
     "output_type": "stream",
     "text": [
      "{'a': 1, 'b': 2, 'c': 3, 'd': 4}\n"
     ]
    }
   ],
   "source": [
    "# Sample dictionaries\n",
    "dict1 = {'a': 1, 'b': 2}\n",
    "dict2 = {'c': 3, 'd': 4}\n",
    "\n",
    "# Merge the dictionaries into a new dictionary\n",
    "merged_dict = {**dict1, **dict2}\n",
    "\n",
    "print(merged_dict)\n"
   ]
  },
  {
   "cell_type": "code",
   "execution_count": null,
   "id": "d2052888-643d-4dce-9f07-d7c062b8e0f6",
   "metadata": {},
   "outputs": [],
   "source": [
    "4.Write a Python program to convert key-values list to flat dictionary?\n"
   ]
  },
  {
   "cell_type": "code",
   "execution_count": 4,
   "id": "4f6298b4-eaa9-4b90-9e60-2e002292a496",
   "metadata": {},
   "outputs": [
    {
     "name": "stdout",
     "output_type": "stream",
     "text": [
      "{'a': 1, 'b': 2, 'c': 3}\n"
     ]
    }
   ],
   "source": [
    "# Sample key and value lists\n",
    "keys = ['a', 'b', 'c']\n",
    "values = [1, 2, 3]\n",
    "\n",
    "# Convert key and value lists to a flat dictionary\n",
    "flat_dict = {keys[i]: values[i] for i in range(len(keys))}\n",
    "\n",
    "print(flat_dict)\n"
   ]
  },
  {
   "cell_type": "code",
   "execution_count": null,
   "id": "b753eeec-4e52-4ac7-af1c-0aa9b4f3476c",
   "metadata": {},
   "outputs": [],
   "source": [
    "6.Write a Python program to check order of character in string using OrderedDict()?\n"
   ]
  },
  {
   "cell_type": "code",
   "execution_count": 5,
   "id": "37b6b8d7-0f36-42d7-ae90-250f2276952b",
   "metadata": {},
   "outputs": [
    {
     "name": "stdout",
     "output_type": "stream",
     "text": [
      "False\n"
     ]
    }
   ],
   "source": [
    "from collections import OrderedDict\n",
    "\n",
    "# Function to check order of characters in a string\n",
    "def check_order(input_str, pattern):\n",
    "    # Create an OrderedDict to maintain order\n",
    "    ordered_dict = OrderedDict.fromkeys(input_str)\n",
    "    \n",
    "    # Convert the keys of the OrderedDict to a string\n",
    "    ordered_str = ''.join(ordered_dict.keys())\n",
    "    \n",
    "    # Check if the pattern is in the ordered string\n",
    "    if pattern in ordered_str:\n",
    "        return True\n",
    "    else:\n",
    "        return False\n",
    "\n",
    "# Test the function\n",
    "input_string = \"hello world\"\n",
    "search_pattern = \"hlo\"\n",
    "result = check_order(input_string, search_pattern)\n",
    "\n",
    "print(result)\n"
   ]
  },
  {
   "cell_type": "code",
   "execution_count": null,
   "id": "61eccd01-f756-4de3-bf05-1f37aa1ea0fb",
   "metadata": {},
   "outputs": [],
   "source": [
    "7.Write a Python program to sort Python Dictionaries by Key or Value?"
   ]
  },
  {
   "cell_type": "code",
   "execution_count": 1,
   "id": "486660db-8505-4343-9df0-0de641557c9f",
   "metadata": {},
   "outputs": [
    {
     "name": "stdout",
     "output_type": "stream",
     "text": [
      "{'a': 2, 'b': 1, 'c': 3, 'd': 4}\n"
     ]
    }
   ],
   "source": [
    "# Sample dictionary\n",
    "sample_dict = {'b': 1, 'a': 2, 'c': 3, 'd': 4}\n",
    "\n",
    "# Sort the dictionary by keys\n",
    "sorted_dict_by_key = dict(sorted(sample_dict.items()))\n",
    "\n",
    "print(sorted_dict_by_key)\n"
   ]
  },
  {
   "cell_type": "code",
   "execution_count": 3,
   "id": "eeeda747-7693-40e9-bfa6-ed9f35c470a5",
   "metadata": {},
   "outputs": [
    {
     "name": "stdout",
     "output_type": "stream",
     "text": [
      "{'b': 1, 'a': 2, 'c': 3, 'd': 4}\n"
     ]
    }
   ],
   "source": [
    "# Sample dictionary\n",
    "sample_dict = {'b': 1, 'a': 2, 'c': 3, 'd': 4}\n",
    "\n",
    "# Sort the dictionary by values\n",
    "sorted_dict_by_value = dict(sorted(sample_dict.items(), key=lambda item: item[1]))\n",
    "\n",
    "print(sorted_dict_by_value)\n"
   ]
  },
  {
   "cell_type": "code",
   "execution_count": null,
   "id": "e6cb9baf-4740-4545-9881-0e823cca4762",
   "metadata": {},
   "outputs": [],
   "source": []
  }
 ],
 "metadata": {
  "kernelspec": {
   "display_name": "Python 3 (ipykernel)",
   "language": "python",
   "name": "python3"
  },
  "language_info": {
   "codemirror_mode": {
    "name": "ipython",
    "version": 3
   },
   "file_extension": ".py",
   "mimetype": "text/x-python",
   "name": "python",
   "nbconvert_exporter": "python",
   "pygments_lexer": "ipython3",
   "version": "3.10.6"
  }
 },
 "nbformat": 4,
 "nbformat_minor": 5
}
