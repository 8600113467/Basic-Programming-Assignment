{
 "cells": [
  {
   "cell_type": "markdown",
   "id": "e986af13-693f-4d8d-93df-9771c023b431",
   "metadata": {},
   "source": [
    "## Basic Programming Assignment no.13"
   ]
  },
  {
   "cell_type": "code",
   "execution_count": null,
   "id": "a7daa443-25b1-4d54-a7ab-942c8ad3d88f",
   "metadata": {},
   "outputs": [],
   "source": [
    "Question 1:"
   ]
  },
  {
   "cell_type": "code",
   "execution_count": null,
   "id": "5890d709-bd5b-404c-b9a7-0eff6977f740",
   "metadata": {},
   "outputs": [],
   "source": [
    "Write a program that calculates and prints the value according to the given formula:\n",
    "Q = Square root of [(2 * C * D)/H]\n",
    "Following are the fixed values of C and H:\n",
    "C is 50. H is 30.\n",
    "D is the variable whose values should be input to your program in a comma-separated sequence.\n",
    "Example\n",
    "Let us assume the following comma separated input sequence is given to the program:\n",
    "100,150,180\n",
    "The output of the program should be:\n",
    "18,22,24"
   ]
  },
  {
   "cell_type": "code",
   "execution_count": 2,
   "id": "11022caf-e7b6-49c3-a9ee-24a1266581f1",
   "metadata": {},
   "outputs": [
    {
     "name": "stdin",
     "output_type": "stream",
     "text": [
      "Enter the comma-separated sequence of D values:  100,150,180\n"
     ]
    },
    {
     "name": "stdout",
     "output_type": "stream",
     "text": [
      "The output of the program is: 18,22,24\n"
     ]
    }
   ],
   "source": [
    "import math\n",
    "\n",
    "# Fixed values\n",
    "C = 50\n",
    "H = 30\n",
    "\n",
    "# Function to calculate square root for a given value of D\n",
    "def calculate_square_root(D):\n",
    "    return int(math.sqrt((2 * C * D) / H))\n",
    "\n",
    "# Input sequence of D values as comma-separated string\n",
    "input_sequence = input(\"Enter the comma-separated sequence of D values: \")\n",
    "\n",
    "# Split the input sequence into a list of integers\n",
    "D_values = [int(x) for x in input_sequence.split(',')]\n",
    "\n",
    "# Calculate square roots and store the results in a list\n",
    "results = [calculate_square_root(D) for D in D_values]\n",
    "\n",
    "# Convert the results to a comma-separated string for output\n",
    "output = ','.join(map(str, results))\n",
    "\n",
    "# Print the result\n",
    "print(\"The output of the program is:\", output)\n"
   ]
  },
  {
   "cell_type": "code",
   "execution_count": null,
   "id": "9d9994f9-a4e5-4710-8df8-19d1cc6851a3",
   "metadata": {},
   "outputs": [],
   "source": [
    "Question 2:\n",
    "Write a program which takes 2 digits, X,Y as input and generates a 2-dimensional array. The element value in the i-th row and j-th column of the array should be i*j.\n",
    "\n",
    "Note: i=0,1.., X-1; j=0,1,¡\u001fY-1.\n",
    "\n",
    "Example\n",
    "\n",
    "Suppose the following inputs are given to the program:\n",
    "\n",
    "3,5\n",
    "\n",
    "Then, the output of the program should be:\n",
    "\n",
    "[[0, 0, 0, 0, 0], [0, 1, 2, 3, 4], [0, 2, 4, 6, 8]] \n"
   ]
  },
  {
   "cell_type": "code",
   "execution_count": 3,
   "id": "5c6095a2-8638-4a12-9415-3da42438fbdd",
   "metadata": {},
   "outputs": [
    {
     "name": "stdin",
     "output_type": "stream",
     "text": [
      "Enter two digits (X, Y):  4,5\n"
     ]
    },
    {
     "name": "stdout",
     "output_type": "stream",
     "text": [
      "[0, 0, 0, 0, 0]\n",
      "[0, 1, 2, 3, 4]\n",
      "[0, 2, 4, 6, 8]\n",
      "[0, 3, 6, 9, 12]\n"
     ]
    }
   ],
   "source": [
    "###### Input: X and Y as comma-separated values\n",
    "input_values = input(\"Enter two digits (X, Y): \")\n",
    "\n",
    "# Split the input into X and Y\n",
    "X, Y = map(int, input_values.split(','))\n",
    "\n",
    "# Initialize an empty 2D array\n",
    "result = []\n",
    "\n",
    "# Create the 2D array using nested loops\n",
    "for i in range(X):\n",
    "    row = []  # Initialize a new row\n",
    "    for j in range(Y):\n",
    "        row.append(i * j)  # Calculate the element value\n",
    "    result.append(row)  # Add the row to the result\n",
    "\n",
    "# Print the resulting 2D array\n",
    "for row in result:\n",
    "    print(row)\n"
   ]
  },
  {
   "cell_type": "code",
   "execution_count": null,
   "id": "99bfab52-bb16-4f26-91d5-1e6e46ed7459",
   "metadata": {},
   "outputs": [],
   "source": [
    "Question 3:\n",
    "Write a program that accepts a comma separated sequence of words as input and prints the words in a comma-separated sequence after sorting them alphabetically.\n",
    "\n",
    "Suppose the following input is supplied to the program:\n",
    "\n",
    "without,hello,bag,world\n",
    "\n",
    "Then, the output should be:\n",
    "\n",
    "bag,hello,without,world"
   ]
  },
  {
   "cell_type": "code",
   "execution_count": 3,
   "id": "5f6ff359-93be-439b-8dd1-50f0b3af32fc",
   "metadata": {},
   "outputs": [
    {
     "name": "stdin",
     "output_type": "stream",
     "text": [
      "Enter a comma-separated sequence of words:  without,hello,bag,world\n"
     ]
    },
    {
     "name": "stdout",
     "output_type": "stream",
     "text": [
      "The sorted sequence is: bag,hello,without,world\n"
     ]
    }
   ],
   "source": [
    "# Input: Comma-separated sequence of words\n",
    "input_sequence = input(\"Enter a comma-separated sequence of words: \")\n",
    "\n",
    "# Split the input into words\n",
    "words = input_sequence.split(',')\n",
    "\n",
    "# Sort the words alphabetically\n",
    "sorted_words = sorted(words)\n",
    "\n",
    "# Join the sorted words into a comma-separated sequence\n",
    "output_sequence = ','.join(sorted_words)\n",
    "\n",
    "# Print the sorted and comma-separated sequence\n",
    "print(\"The sorted sequence is:\", output_sequence)\n"
   ]
  },
  {
   "cell_type": "code",
   "execution_count": null,
   "id": "7bedfb1f-8091-42ae-a62d-c86d984f437d",
   "metadata": {},
   "outputs": [],
   "source": [
    "Question 4:\n",
    "Write a program that accepts a sequence of whitespace separated words as input and prints the words after removing all duplicate words and sorting them alphanumerically.\n",
    "\n",
    "Suppose the following input is supplied to the program:\n",
    "\n",
    "hello world and practice makes perfect and hello world again\n",
    "\n",
    "Then, the output should be:\n",
    "\n",
    "again and hello makes perfect practice world\n"
   ]
  },
  {
   "cell_type": "code",
   "execution_count": 4,
   "id": "58314aab-7099-4cb3-b4a1-aa42f5c973f0",
   "metadata": {},
   "outputs": [
    {
     "name": "stdin",
     "output_type": "stream",
     "text": [
      "Enter a whitespace-separated sequence of words:  hello world and practice makes perfect and hello world again\n"
     ]
    },
    {
     "name": "stdout",
     "output_type": "stream",
     "text": [
      "The sorted sequence is: again and hello makes perfect practice world\n"
     ]
    }
   ],
   "source": [
    "# Input: Whitespace-separated sequence of words\n",
    "input_sequence = input(\"Enter a whitespace-separated sequence of words: \")\n",
    "\n",
    "# Split the input into words\n",
    "words = input_sequence.split()\n",
    "\n",
    "# Remove duplicates while maintaining the order\n",
    "unique_words = []\n",
    "for word in words:\n",
    "    if word not in unique_words:\n",
    "        unique_words.append(word)\n",
    "\n",
    "# Sort the unique words alphabetically\n",
    "sorted_words = sorted(unique_words)\n",
    "\n",
    "# Join the sorted words into a whitespace-separated sequence\n",
    "output_sequence = ' '.join(sorted_words)\n",
    "\n",
    "# Print the sorted and whitespace-separated sequence\n",
    "print(\"The sorted sequence is:\", output_sequence)\n"
   ]
  },
  {
   "cell_type": "code",
   "execution_count": null,
   "id": "aca02881-fbab-41e0-9a0b-5c863dc02b42",
   "metadata": {},
   "outputs": [],
   "source": [
    "Question 5:\n",
    "Write a program that accepts a sentence and calculate the number of letters and digits.\n",
    "\n",
    "Suppose the following input is supplied to the program:\n",
    "\n",
    "hello world! 123\n",
    "\n",
    "Then, the output should be:\n",
    "\n",
    "LETTERS 10\n",
    "\n",
    "DIGITS 3\n"
   ]
  },
  {
   "cell_type": "code",
   "execution_count": 5,
   "id": "63bf8881-ca5f-4189-9a6f-055e31589a70",
   "metadata": {},
   "outputs": [
    {
     "name": "stdin",
     "output_type": "stream",
     "text": [
      "Enter a sentence:  hello world! 123\n"
     ]
    },
    {
     "name": "stdout",
     "output_type": "stream",
     "text": [
      "LETTERS 10\n",
      "DIGITS 3\n"
     ]
    }
   ],
   "source": [
    "# Input: Sentence\n",
    "input_sentence = input(\"Enter a sentence: \")\n",
    "\n",
    "# Initialize counters for letters and digits\n",
    "letter_count = 0\n",
    "digit_count = 0\n",
    "\n",
    "# Iterate through each character in the sentence\n",
    "for char in input_sentence:\n",
    "    if char.isalpha():  # Check if the character is a letter\n",
    "        letter_count += 1\n",
    "    elif char.isdigit():  # Check if the character is a digit\n",
    "        digit_count += 1\n",
    "\n",
    "# Print the counts of letters and digits\n",
    "print(\"LETTERS\", letter_count)\n",
    "print(\"DIGITS\", digit_count)\n"
   ]
  },
  {
   "cell_type": "code",
   "execution_count": null,
   "id": "0f2632bf-ccf3-4a36-9c20-290bca724043",
   "metadata": {},
   "outputs": [],
   "source": [
    "Question 6:\n",
    "A website requires the users to input username and password to register. Write a program to check the validity of password input by users.\n",
    "\n",
    "Following are the criteria for checking the password:\n",
    "\n",
    "1. At least 1 letter between [a-z]\n",
    "\n",
    "2. At least 1 number between [0-9]\n",
    "\n",
    "1. At least 1 letter between [A-Z]\n",
    "\n",
    "3. At least 1 character from [$#@]\n",
    "\n",
    "4. Minimum length of transaction password: 6\n",
    "\n",
    "5. Maximum length of transaction password: 12\n",
    "\n",
    "Your program should accept a sequence of comma separated passwords and will check them according to the above criteria. Passwords that match the criteria are to be printed, each separated by a comma.\n",
    "\n",
    "Example\n",
    "\n",
    "If the following passwords are given as input to the program:\n",
    "\n",
    "ABd1234@1,a F1#,2w3E*,2We3345\n",
    "\n",
    "Then, the output of the program should be:\n",
    "\n",
    "ABd1234@1"
   ]
  },
  {
   "cell_type": "code",
   "execution_count": 6,
   "id": "5ccca4d4-aead-4cd7-b97c-504d7d7348bb",
   "metadata": {},
   "outputs": [
    {
     "name": "stdin",
     "output_type": "stream",
     "text": [
      "Enter a sequence of comma-separated passwords:  ABd1234@1,a F1\n"
     ]
    },
    {
     "name": "stdout",
     "output_type": "stream",
     "text": [
      "ABd1234@1\n"
     ]
    }
   ],
   "source": [
    "import re\n",
    "\n",
    "# Function to check password validity\n",
    "def is_valid_password(password):\n",
    "    # Check length criteria\n",
    "    if 6 <= len(password) <= 12:\n",
    "        # Check for at least 1 lowercase letter [a-z]\n",
    "        if re.search(\"[a-z]\", password):\n",
    "            # Check for at least 1 uppercase letter [A-Z]\n",
    "            if re.search(\"[A-Z]\", password):\n",
    "                # Check for at least 1 digit [0-9]\n",
    "                if re.search(\"[0-9]\", password):\n",
    "                    # Check for at least 1 character from [$#@]\n",
    "                    if re.search(\"[$#@]\", password):\n",
    "                        return True\n",
    "\n",
    "    return False\n",
    "\n",
    "# Input: Comma-separated passwords\n",
    "input_passwords = input(\"Enter a sequence of comma-separated passwords: \")\n",
    "\n",
    "# Split the input into a list of passwords\n",
    "passwords = input_passwords.split(',')\n",
    "\n",
    "# Initialize a list to store valid passwords\n",
    "valid_passwords = []\n",
    "\n",
    "# Check each password and add valid ones to the list\n",
    "for password in passwords:\n",
    "    if is_valid_password(password):\n",
    "        valid_passwords.append(password)\n",
    "\n",
    "# Join the valid passwords into a comma-separated string\n",
    "output_passwords = ','.join(valid_passwords)\n",
    "\n",
    "# Print the valid passwords\n",
    "print(output_passwords)\n"
   ]
  }
 ],
 "metadata": {
  "kernelspec": {
   "display_name": "Python 3 (ipykernel)",
   "language": "python",
   "name": "python3"
  },
  "language_info": {
   "codemirror_mode": {
    "name": "ipython",
    "version": 3
   },
   "file_extension": ".py",
   "mimetype": "text/x-python",
   "name": "python",
   "nbconvert_exporter": "python",
   "pygments_lexer": "ipython3",
   "version": "3.10.6"
  }
 },
 "nbformat": 4,
 "nbformat_minor": 5
}
