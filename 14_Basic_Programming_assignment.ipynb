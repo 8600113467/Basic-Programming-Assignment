{
 "cells": [
  {
   "cell_type": "markdown",
   "id": "3848011c-2932-4a3f-b21c-40176c36cb12",
   "metadata": {},
   "source": [
    "## Basic Programming Assignment no.14"
   ]
  },
  {
   "cell_type": "code",
   "execution_count": null,
   "id": "f6abb2e0-4865-45fb-97c2-ddb4325d5c87",
   "metadata": {},
   "outputs": [],
   "source": [
    "Question 1:\n",
    "\n",
    "Define a class with a generator which can iterate the numbers, which are divisible by 7, between a given range 0 and n.\n"
   ]
  },
  {
   "cell_type": "code",
   "execution_count": 1,
   "id": "99507957-0ed1-4f94-a393-9e1a02245ca5",
   "metadata": {},
   "outputs": [
    {
     "name": "stdout",
     "output_type": "stream",
     "text": [
      "0\n",
      "7\n",
      "14\n",
      "21\n",
      "28\n",
      "35\n",
      "42\n",
      "49\n",
      "56\n",
      "63\n",
      "70\n"
     ]
    }
   ],
   "source": [
    "class DivisibleBySeven:\n",
    "    def __init__(self, n):\n",
    "        self.n = n\n",
    "\n",
    "    def generate_numbers(self):\n",
    "        for num in range(self.n + 1):\n",
    "            if num % 7 == 0:\n",
    "                yield num\n",
    "\n",
    "# Example usage:\n",
    "n = 70  # Replace with your desired range limit\n",
    "divisible_by_seven = DivisibleBySeven(n)\n",
    "\n",
    "for num in divisible_by_seven.generate_numbers():\n",
    "    print(num)\n"
   ]
  },
  {
   "cell_type": "code",
   "execution_count": null,
   "id": "ad873645-09b8-4047-893a-1aab0506d1a2",
   "metadata": {},
   "outputs": [],
   "source": [
    "Question 2:\n",
    "Write a program to compute the frequency of the words from the input. The output should output after sorting the key alphanumerically. \n",
    "Suppose the following input is supplied to the program:\n",
    "New to Python or choosing between Python 2 and Python 3? Read Python 2 or Python 3.\n",
    "Then, the output should be:\n",
    "2:2\n",
    "3.:1\n",
    "3?:1\n",
    "New:1\n",
    "Python:5\n",
    "Read:1\n",
    "and:1\n",
    "between:1\n",
    "choosing:1\n",
    "or:2\n",
    "to:1"
   ]
  },
  {
   "cell_type": "code",
   "execution_count": 1,
   "id": "dabb28e6-9002-45de-a1a4-f4ee843517c2",
   "metadata": {},
   "outputs": [
    {
     "name": "stdin",
     "output_type": "stream",
     "text": [
      "Enter the input text:  fsds 2 is better than fsds 1 and fsds 3 is better than fsds 2\n"
     ]
    },
    {
     "name": "stdout",
     "output_type": "stream",
     "text": [
      "1:1\n",
      "2:2\n",
      "3:1\n",
      "and:1\n",
      "better:2\n",
      "fsds:4\n",
      "is:2\n",
      "than:2\n"
     ]
    }
   ],
   "source": [
    "# Input: Text\n",
    "input_text = input(\"Enter the input text: \")\n",
    "\n",
    "# Split the input text into words\n",
    "words = input_text.split()\n",
    "\n",
    "# Create a dictionary to store word frequencies\n",
    "word_freq = {}\n",
    "\n",
    "# Count the frequency of each word\n",
    "for word in words:\n",
    "    # Remove punctuation and convert to lowercase for consistency\n",
    "    word = word.strip('.,?')\n",
    "    word = word.lower()\n",
    "\n",
    "    if word in word_freq:\n",
    "        word_freq[word] += 1\n",
    "    else:\n",
    "        word_freq[word] = 1\n",
    "\n",
    "# Sort the dictionary by keys (words) alphabetically\n",
    "sorted_word_freq = dict(sorted(word_freq.items()))\n",
    "\n",
    "# Print the sorted word frequencies\n",
    "for word, frequency in sorted_word_freq.items():\n",
    "    print(f\"{word}:{frequency}\")\n"
   ]
  },
  {
   "cell_type": "code",
   "execution_count": null,
   "id": "ffa54d26-1e37-4966-8fd2-9b7b388e8d4b",
   "metadata": {},
   "outputs": [],
   "source": [
    "Question 3:\n",
    "Define a class Person and its two child classes: Male and Female. All classes have a method \"getGender\" which can print \"Male\" for Male \n",
    "class and \"Female\" for Female class.\n"
   ]
  },
  {
   "cell_type": "code",
   "execution_count": 1,
   "id": "97c19cfc-86d0-43f6-8d2a-a5f082ce3d58",
   "metadata": {},
   "outputs": [
    {
     "name": "stdout",
     "output_type": "stream",
     "text": [
      "Unknown\n",
      "Male\n",
      "Female\n"
     ]
    }
   ],
   "source": [
    "class Person:\n",
    "    def getGender(self):\n",
    "        return \"Unknown\"\n",
    "\n",
    "class Male(Person):\n",
    "    def getGender(self):\n",
    "        return \"Male\"\n",
    "\n",
    "class Female(Person):\n",
    "    def getGender(self):\n",
    "        return \"Female\"\n",
    "\n",
    "# Example usage:\n",
    "person = Person()\n",
    "male = Male()\n",
    "female = Female()\n",
    "\n",
    "print(person.getGender())  \n",
    "print(male.getGender())   \n",
    "print(female.getGender())  \n"
   ]
  },
  {
   "cell_type": "code",
   "execution_count": null,
   "id": "abacd2ee-d6b4-4e2b-9970-047c6ddb41a6",
   "metadata": {},
   "outputs": [],
   "source": [
    "Question 4:\n",
    "Please write a program to generate all sentences where subject is in [\"I\", \"You\"] and verb is in [\"Play\", \"Love\"] and the object is in [\"Hockey\",\"Football\"].\n"
   ]
  },
  {
   "cell_type": "code",
   "execution_count": 2,
   "id": "8bbfcf50-be64-4d48-8cc7-bc201c9e34a5",
   "metadata": {},
   "outputs": [
    {
     "name": "stdout",
     "output_type": "stream",
     "text": [
      "I Play Hockey.\n",
      "I Play Football.\n",
      "I Love Hockey.\n",
      "I Love Football.\n",
      "You Play Hockey.\n",
      "You Play Football.\n",
      "You Love Hockey.\n",
      "You Love Football.\n"
     ]
    }
   ],
   "source": [
    "# Define lists of subjects, verbs, and objects\n",
    "subjects = [\"I\", \"You\"]\n",
    "verbs = [\"Play\", \"Love\"]\n",
    "objects = [\"Hockey\", \"Football\"]\n",
    "\n",
    "# Initialize a list to store generated sentences\n",
    "sentences = []\n",
    "\n",
    "# Generate sentences using nested loops\n",
    "for subject in subjects:\n",
    "    for verb in verbs:\n",
    "        for obj in objects:\n",
    "            sentence = f\"{subject} {verb} {obj}.\"\n",
    "            sentences.append(sentence)\n",
    "\n",
    "# Print the generated sentences\n",
    "for sentence in sentences:\n",
    "    print(sentence)\n"
   ]
  },
  {
   "cell_type": "code",
   "execution_count": null,
   "id": "06b027fd-1e0f-43e6-8020-a1e9094b44d0",
   "metadata": {},
   "outputs": [],
   "source": [
    "Question 5:\n",
    "Please write a program to compress and decompress the string \"hello world!hello world!hello world!hello world!\".\n"
   ]
  },
  {
   "cell_type": "code",
   "execution_count": 3,
   "id": "397ac739-d649-4f7e-aa66-d820fa93a0b8",
   "metadata": {},
   "outputs": [
    {
     "name": "stdout",
     "output_type": "stream",
     "text": [
      "Compressed data: b'x\\x9c\\xcbH\\xcd\\xc9\\xc9W(\\xcf/\\xcaIQ\\xcc \\x82\\r\\x00\\xbd[\\x11\\xf5'\n",
      "Decompressed string: hello world!hello world!hello world!hello world!\n"
     ]
    }
   ],
   "source": [
    "import zlib\n",
    "\n",
    "# Original string\n",
    "original_string = \"hello world!hello world!hello world!hello world!\"\n",
    "\n",
    "# Compress the string\n",
    "compressed_data = zlib.compress(original_string.encode(\"utf-8\"))\n",
    "\n",
    "# Decompress the compressed data\n",
    "decompressed_string = zlib.decompress(compressed_data).decode(\"utf-8\")\n",
    "\n",
    "# Print the compressed and decompressed strings\n",
    "print(\"Compressed data:\", compressed_data)\n",
    "print(\"Decompressed string:\", decompressed_string)\n"
   ]
  },
  {
   "cell_type": "code",
   "execution_count": null,
   "id": "45be175e-4ab7-4120-a402-048994960960",
   "metadata": {},
   "outputs": [],
   "source": [
    "Question 6:\n",
    "Please write a binary search function which searches an item in a sorted list. The function should return the index of element to be searched in the list."
   ]
  },
  {
   "cell_type": "code",
   "execution_count": 4,
   "id": "d197a74f-cdbe-412c-8a08-c7768f44c9e2",
   "metadata": {},
   "outputs": [
    {
     "name": "stdout",
     "output_type": "stream",
     "text": [
      "7 found at index 3\n"
     ]
    }
   ],
   "source": [
    "def binary_search(sorted_list, item):\n",
    "    left, right = 0, len(sorted_list) - 1\n",
    "\n",
    "    while left <= right:\n",
    "        mid = (left + right) // 2  # Calculate the middle index\n",
    "\n",
    "        if sorted_list[mid] == item:\n",
    "            return mid  # Found the item, return its index\n",
    "        elif sorted_list[mid] < item:\n",
    "            left = mid + 1  # Search in the right half\n",
    "        else:\n",
    "            right = mid - 1  # Search in the left half\n",
    "\n",
    "    return -1  # Item not found in the list\n",
    "\n",
    "# Example usage:\n",
    "sorted_list = [1, 3, 5, 7, 9, 11, 13, 15, 17]\n",
    "item_to_find = 7\n",
    "result = binary_search(sorted_list, item_to_find)\n",
    "\n",
    "if result != -1:\n",
    "    print(f\"{item_to_find} found at index {result}\")\n",
    "else:\n",
    "    print(f\"{item_to_find} not found in the list\")\n"
   ]
  }
 ],
 "metadata": {
  "kernelspec": {
   "display_name": "Python 3 (ipykernel)",
   "language": "python",
   "name": "python3"
  },
  "language_info": {
   "codemirror_mode": {
    "name": "ipython",
    "version": 3
   },
   "file_extension": ".py",
   "mimetype": "text/x-python",
   "name": "python",
   "nbconvert_exporter": "python",
   "pygments_lexer": "ipython3",
   "version": "3.10.6"
  }
 },
 "nbformat": 4,
 "nbformat_minor": 5
}
