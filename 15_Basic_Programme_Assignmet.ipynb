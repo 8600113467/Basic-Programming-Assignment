{
 "cells": [
  {
   "cell_type": "markdown",
   "id": "8aafa8cb-464f-4493-9449-dee82d0cd37d",
   "metadata": {},
   "source": [
    "## Basic Programming Assignment no.15"
   ]
  },
  {
   "cell_type": "code",
   "execution_count": null,
   "id": "86889cd4-aff7-4909-9e95-7355ceb56649",
   "metadata": {},
   "outputs": [],
   "source": [
    "Question 1:\n",
    "Please write a program using generator to print the numbers which can be divisible by 5 and 7 between 0 and n in comma separated form while n is input by console.\n",
    "Example:\n",
    "If the following n is given as input to the program:\n",
    "100\n",
    "Then, the output of the program should be:\n",
    "0,35,70"
   ]
  },
  {
   "cell_type": "code",
   "execution_count": null,
   "id": "78369fde-3f1f-4d73-a39a-0e604d07d653",
   "metadata": {},
   "outputs": [],
   "source": [
    "def divisible_by_5_and_7(n):\n",
    "    for i in range(n + 1):\n",
    "        if i % 5 == 0 and i % 7 == 0:\n",
    "            yield i\n",
    "\n",
    "# Input: n from the console\n",
    "n = int(input(\"Enter a value for n: \"))\n",
    "\n",
    "# Generate and print the numbers\n",
    "result = list(divisible_by_5_and_7(n))\n",
    "print(','.join(map(str, result)))\n"
   ]
  },
  {
   "cell_type": "code",
   "execution_count": null,
   "id": "bfa6a198-fbc5-43b7-9569-894850712431",
   "metadata": {},
   "outputs": [],
   "source": [
    "Question 2:\n",
    "Please write a program using generator to print the even numbers between 0 and n in comma separated form while n is input by console.\n",
    "Example:\n",
    "If the following n is given as input to the program:\n",
    "10\n",
    "Then, the output of the program should be:\n",
    "0,2,4,6,8,10"
   ]
  },
  {
   "cell_type": "code",
   "execution_count": null,
   "id": "9f7e23b2-c51b-44f0-a0a2-809ba079f816",
   "metadata": {},
   "outputs": [],
   "source": [
    "def even_numbers(n):\n",
    "    for i in range(0, n + 1, 2):\n",
    "        yield i\n",
    "\n",
    "# Input: n from the console\n",
    "n = int(input(\"Enter a value for n: \"))\n",
    "\n",
    "# Generate and print the even numbers\n",
    "result = list(even_numbers(n))\n",
    "print(','.join(map(str, result)))\n"
   ]
  },
  {
   "cell_type": "code",
   "execution_count": null,
   "id": "475e35a2-79dc-4c12-8239-c1b64250780f",
   "metadata": {},
   "outputs": [],
   "source": [
    "Question 3:\n",
    "The Fibonacci Sequence is computed based on the following formula:\n",
    "f(n)=0 if n=0\n",
    "f(n)=1 if n=1\n",
    "f(n)=f(n-1)+f(n-2) if n>1\n",
    "Please write a program using list comprehension to print the Fibonacci Sequence in comma separated form with a given n input by console.\n",
    "Example:\n",
    "If the following n is given as input to the program:\n",
    "7\n",
    "\n",
    "Then, the output of the program should be:\n",
    "0,1,1,2,3,5,8,13\n"
   ]
  },
  {
   "cell_type": "code",
   "execution_count": 3,
   "id": "2b542183-b312-4a87-8da9-7aad8d7b945a",
   "metadata": {},
   "outputs": [
    {
     "name": "stdin",
     "output_type": "stream",
     "text": [
      "Enter a value for n:  10\n"
     ]
    },
    {
     "name": "stdout",
     "output_type": "stream",
     "text": [
      "0,1,1,2,3,5,8,13,21,34,55\n"
     ]
    }
   ],
   "source": [
    "# Function to generate Fibonacci sequence using list comprehension\n",
    "def fibonacci_sequence(n):\n",
    "    # Initialize a list with the first two Fibonacci numbers\n",
    "    fib_sequence = [0, 1]\n",
    "\n",
    "    # Use list comprehension to generate the remaining Fibonacci numbers\n",
    "    [fib_sequence.append(fib_sequence[-1] + fib_sequence[-2]) for _ in range(2, n + 1)]\n",
    "\n",
    "    return fib_sequence\n",
    "\n",
    "# Input: n from the console\n",
    "n = int(input(\"Enter a value for n: \"))\n",
    "\n",
    "# Generate and print the Fibonacci sequence\n",
    "fib_sequence = fibonacci_sequence(n)\n",
    "print(','.join(map(str, fib_sequence)))\n"
   ]
  },
  {
   "cell_type": "code",
   "execution_count": null,
   "id": "7b49a492-1803-4e9a-bfbe-9083b223fbfa",
   "metadata": {},
   "outputs": [],
   "source": [
    "Question 4:\n",
    "Assuming that we have some email addresses in the \"username@companyname.com\" format, please write program to print the user name of a given email address. Both user names and company names are composed of letters only.\n",
    "Example:\n",
    "If the following email address is given as input to the program:\n",
    "john@google.com\n",
    "Then, the output of the program should be:\n",
    "john"
   ]
  },
  {
   "cell_type": "code",
   "execution_count": 6,
   "id": "ab99807b-bd40-4ee2-898a-b3dd0c2fbbed",
   "metadata": {},
   "outputs": [
    {
     "name": "stdin",
     "output_type": "stream",
     "text": [
      "Enter an email address:  appatil9395@gmail.com\n"
     ]
    },
    {
     "name": "stdout",
     "output_type": "stream",
     "text": [
      "appatil9395\n"
     ]
    }
   ],
   "source": [
    "# Input: Email address\n",
    "email_address = input(\"Enter an email address: \")\n",
    "\n",
    "# Split the email address at \"@\" and get the username\n",
    "username = email_address.split('@')[0]\n",
    "\n",
    "# Print the username\n",
    "print(username)\n"
   ]
  },
  {
   "cell_type": "code",
   "execution_count": null,
   "id": "cc54ee5f-1fa4-447c-8be8-8a22f64c9aea",
   "metadata": {},
   "outputs": [],
   "source": [
    "Question 5:\n",
    "Define a class named Shape and its subclass Square. The Square class has an init function which takes a length as argument. Both classes have a area function which can print the area of the shape where Shape's area is 0 by default.\n"
   ]
  },
  {
   "cell_type": "code",
   "execution_count": 7,
   "id": "5eac7935-6220-4e48-8189-7b85206c0a85",
   "metadata": {},
   "outputs": [
    {
     "name": "stdout",
     "output_type": "stream",
     "text": [
      "Area of the Shape: 0\n",
      "Area of the Square: 16\n"
     ]
    }
   ],
   "source": [
    "class Shape:\n",
    "    def area(self):\n",
    "        return 0\n",
    "\n",
    "class Square(Shape):\n",
    "    def __init__(self, length):\n",
    "        self.length = length\n",
    "\n",
    "    def area(self):\n",
    "        return self.length ** 2\n",
    "\n",
    "# Example usage:\n",
    "shape = Shape()\n",
    "square = Square(4)\n",
    "\n",
    "print(\"Area of the Shape:\", shape.area())  # Output: 0 (default)\n",
    "print(\"Area of the Square:\", square.area())  # Output: 16 (4^2)\n"
   ]
  },
  {
   "cell_type": "code",
   "execution_count": null,
   "id": "e2133857-74f9-4206-99f3-bbe543d3343f",
   "metadata": {},
   "outputs": [],
   "source": []
  }
 ],
 "metadata": {
  "kernelspec": {
   "display_name": "Python 3 (ipykernel)",
   "language": "python",
   "name": "python3"
  },
  "language_info": {
   "codemirror_mode": {
    "name": "ipython",
    "version": 3
   },
   "file_extension": ".py",
   "mimetype": "text/x-python",
   "name": "python",
   "nbconvert_exporter": "python",
   "pygments_lexer": "ipython3",
   "version": "3.10.6"
  }
 },
 "nbformat": 4,
 "nbformat_minor": 5
}
