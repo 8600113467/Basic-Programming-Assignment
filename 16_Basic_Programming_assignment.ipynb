{
 "cells": [
  {
   "cell_type": "code",
   "execution_count": null,
   "id": "92053a7d-6eb8-481a-8328-4764d04495c0",
   "metadata": {},
   "outputs": [],
   "source": []
  },
  {
   "cell_type": "markdown",
   "id": "ef1457b3-146f-456d-968c-bfa4812d4cbb",
   "metadata": {},
   "source": [
    "## Basic Programming Assignment no.16"
   ]
  },
  {
   "cell_type": "code",
   "execution_count": null,
   "id": "895d5034-41b0-46c0-a52c-82e1f52125d7",
   "metadata": {},
   "outputs": [],
   "source": [
    "Question1. Write a function that stutters a word as if someone is struggling to read it. The first two letters are repeated\n",
    "twice with an ellipsis ... and space after each, and then the word is pronounced with a question mark ?.\n",
    "Examples\n",
    "stutter(\"incredible\") ➞ \"in... in... incredible?\"\n",
    "\n",
    "stutter(\"enthusiastic\") ➞ \"en... en... enthusiastic?\"\n",
    "\n",
    "stutter(\"outstanding\") ➞ \"ou... ou... outstanding?\"\n",
    "\n",
    "Hint :- Assume all input is in lower case and at least two characters long.\n"
   ]
  },
  {
   "cell_type": "code",
   "execution_count": 2,
   "id": "72ac2010-3d7a-4161-b628-857f41833eab",
   "metadata": {},
   "outputs": [
    {
     "name": "stdout",
     "output_type": "stream",
     "text": [
      "in... in... incredible?\n",
      "en... en... enthusiastic?\n",
      "ou... ou... outstanding?\n"
     ]
    }
   ],
   "source": [
    "def stutter(word):\n",
    "    # Check if the word is at least two characters long\n",
    "    if len(word) < 2:\n",
    "        return \"Word must be at least two characters long.\"\n",
    "\n",
    "    # Repeat the first two letters twice with an ellipsis and space after each\n",
    "    stuttered_word = word[:2] + \"... \" + word[:2] + \"... \"+word+\"?\"\n",
    "    return stuttered_word\n",
    "\n",
    "# Test cases\n",
    "print(stutter(\"incredible\"))  \n",
    "print(stutter(\"enthusiastic\"))\n",
    "print(stutter(\"outstanding\"))  \n"
   ]
  },
  {
   "cell_type": "code",
   "execution_count": null,
   "id": "7eef3c78-7406-4ce1-8cea-0b1d19ee8741",
   "metadata": {},
   "outputs": [],
   "source": [
    "Question 2.Create a function that takes an angle in radians and returns the corresponding angle in degrees rounded to one decimal place.\n",
    "Examples\n",
    "radians_to_degrees(1) ➞ 57.3\n",
    "\n",
    "radians_to_degrees(20) ➞ 1145.9\n",
    "\n",
    "radians_to_degrees(50) ➞ 2864.8\n"
   ]
  },
  {
   "cell_type": "code",
   "execution_count": 1,
   "id": "bb8b0c59-4b81-490a-8c72-cf1fd4433559",
   "metadata": {},
   "outputs": [
    {
     "name": "stdout",
     "output_type": "stream",
     "text": [
      "57.3\n",
      "1145.9\n",
      "2864.8\n"
     ]
    }
   ],
   "source": [
    "import math\n",
    "\n",
    "def radians_to_degrees(radians):\n",
    "    # Convert radians to degrees using the math.degrees() function\n",
    "    degrees = math.degrees(radians)\n",
    "    \n",
    "    # Round the result to one decimal place\n",
    "    degrees_rounded = round(degrees, 1)\n",
    "    \n",
    "    return degrees_rounded\n",
    "\n",
    "print(radians_to_degrees(1))  \n",
    "print(radians_to_degrees(20)) \n",
    "print(radians_to_degrees(50))  \n"
   ]
  },
  {
   "cell_type": "code",
   "execution_count": null,
   "id": "d2dbbbb6-e228-477b-868d-1fd10fe26aa8",
   "metadata": {},
   "outputs": [],
   "source": [
    "Question 3. In this challenge, establish if a given integer num is a Curzon number. If 1 plus 2 elevated to num is exactly divisible by 1 plus 2 multiplied by num, then num is a Curzon number.\n",
    "Given a non-negative integer num, implement a function that returns True if num is a Curzon number, or False otherwise.\n",
    "Examples\n",
    "is_curzon(5) ➞ True\n",
    "# 2 ** 5 + 1 = 33\n",
    "# 2 * 5 + 1 = 11\n",
    "# 33 is a multiple of 11\n",
    "\n",
    "is_curzon(10) ➞ False\n",
    "# 2 ** 10 + 1 = 1025\n",
    "# 2 * 10 + 1 = 21\n",
    "# 1025 is not a multiple of 21\n",
    "\n",
    "is_curzon(14) ➞ True\n",
    "# 2 ** 14 + 1 = 16385\n",
    "# 2 * 14 + 1 = 29\n",
    "# 16385 is a multiple of 29"
   ]
  },
  {
   "cell_type": "code",
   "execution_count": 5,
   "id": "916e888a-4504-4cd5-8d34-705a91b36364",
   "metadata": {},
   "outputs": [
    {
     "name": "stdout",
     "output_type": "stream",
     "text": [
      "True\n",
      "False\n",
      "True\n"
     ]
    }
   ],
   "source": [
    "def curzon(num):\n",
    "    numerator = 2 ** num + 1\n",
    "    denominator = 2 * num + 1\n",
    "\n",
    "    return numerator % denominator == 0\n",
    "\n",
    "\n",
    "print(curzon(5))   \n",
    "print(curzon(10))  \n",
    "print(curzon(14))  \n"
   ]
  },
  {
   "cell_type": "code",
   "execution_count": null,
   "id": "79575939-0e14-485a-ba9b-df5c6d2c90cd",
   "metadata": {},
   "outputs": [],
   "source": [
    "Question 4.Given the side length x find the area of a hexagon.\n",
    "\n",
    "Examples\n",
    "area_of_hexagon(1) ➞ 2.6\n",
    "\n",
    "area_of_hexagon(2) ➞ 10.4\n",
    "\n",
    "area_of_hexagon(3) ➞ 23.4\n"
   ]
  },
  {
   "cell_type": "code",
   "execution_count": 4,
   "id": "2b5516bd-53bc-47a0-81c8-af883f94d74a",
   "metadata": {},
   "outputs": [
    {
     "name": "stdout",
     "output_type": "stream",
     "text": [
      "2.6\n",
      "10.4\n",
      "23.4\n"
     ]
    }
   ],
   "source": [
    "import math\n",
    "\n",
    "def area_of_hexagon(x):\n",
    "    # Calculate the area using the formula\n",
    "    area = (3 * math.sqrt(3) * x**2) / 2\n",
    "    return round(area, 1)  # Round the result to one decimal place\n",
    "\n",
    "print(area_of_hexagon(1))  \n",
    "print(area_of_hexagon(2)) \n",
    "print(area_of_hexagon(3))  \n"
   ]
  },
  {
   "cell_type": "code",
   "execution_count": null,
   "id": "e5fd3851-0122-4428-a3a2-3aa3f58323e3",
   "metadata": {},
   "outputs": [],
   "source": [
    "Question 5. Create a function that returns a base-2 (binary) representation of a base-10 (decimal) string number. To convert is simple: ((2) means base-2 and (10) means base-10) 010101001(2) = 1 + 8 + 32 + 128.\n",
    "Going from right to left, the value of the most right bit is 1, now from that every bit to the left will be x2 the value, value of an 8 bit binary numbers are (256, 128, 64, 32, 16, 8, 4, 2, 1).\n",
    "Examples\n",
    "binary(1) ➞ \"1\"\n",
    "# 1*1 = 1\n",
    "\n",
    "binary(5) ➞ \"101\"\n",
    "# 1*1 + 1*4 = 5\n",
    "\n",
    "binary(10) ➞ \"1010\"\n",
    "# 1*2 + 1*8 = 10"
   ]
  },
  {
   "cell_type": "code",
   "execution_count": 6,
   "id": "4bd81aed-a1b2-4461-a589-c0a988f0e5e3",
   "metadata": {},
   "outputs": [
    {
     "name": "stdout",
     "output_type": "stream",
     "text": [
      "1\n",
      "101\n",
      "1010\n"
     ]
    }
   ],
   "source": [
    "def binary(decimal):\n",
    "    if decimal == 0:\n",
    "        return \"0\"\n",
    "\n",
    "    binary_str = \"\"\n",
    "    while decimal > 0:\n",
    "        remainder = decimal % 2\n",
    "        binary_str = str(remainder) + binary_str\n",
    "        decimal = decimal // 2\n",
    "\n",
    "    return binary_str\n",
    "\n",
    "print(binary(1))  \n",
    "print(binary(5))   \n",
    "print(binary(10))  \n"
   ]
  }
 ],
 "metadata": {
  "kernelspec": {
   "display_name": "Python 3 (ipykernel)",
   "language": "python",
   "name": "python3"
  },
  "language_info": {
   "codemirror_mode": {
    "name": "ipython",
    "version": 3
   },
   "file_extension": ".py",
   "mimetype": "text/x-python",
   "name": "python",
   "nbconvert_exporter": "python",
   "pygments_lexer": "ipython3",
   "version": "3.10.6"
  }
 },
 "nbformat": 4,
 "nbformat_minor": 5
}
