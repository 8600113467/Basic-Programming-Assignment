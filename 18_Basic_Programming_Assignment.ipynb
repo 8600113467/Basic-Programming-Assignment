{
 "cells": [
  {
   "cell_type": "markdown",
   "id": "3ab973c1-a975-4c5a-835d-b3c848bf5cbf",
   "metadata": {},
   "source": [
    "## Basic Programming Assignment no.18"
   ]
  },
  {
   "cell_type": "code",
   "execution_count": null,
   "id": "4668fa14-6bb4-47fe-819e-9d34fd902041",
   "metadata": {},
   "outputs": [],
   "source": [
    "Question 1\n",
    "Create a function that takes a list of non-negative integers and strings and return a new list without the strings.\n",
    "Examples\n",
    "filter_list([1, 2, \"a\", \"b\"]) ➞ [1, 2]\n",
    "\n",
    "filter_list([1, \"a\", \"b\", 0, 15]) ➞ [1, 0, 15]\n",
    "\n",
    "filter_list([1, 2, \"aasf\", \"1\", \"123\", 123]) ➞ [1, 2, 123]"
   ]
  },
  {
   "cell_type": "code",
   "execution_count": 1,
   "id": "47f5fb91-d377-4370-bd94-74ccae5e7a6a",
   "metadata": {},
   "outputs": [
    {
     "name": "stdout",
     "output_type": "stream",
     "text": [
      "[1, 2]\n",
      "[1, 0, 15]\n",
      "[1, 2, 123]\n"
     ]
    }
   ],
   "source": [
    "def filter_list(lst):\n",
    "    result = []\n",
    "    for item in lst:\n",
    "        if isinstance(item, int) and item >= 0:\n",
    "            result.append(item)\n",
    "    return result\n",
    "\n",
    "\n",
    "print(filter_list([1, 2, \"a\", \"b\"])) \n",
    "print(filter_list([1, \"a\", \"b\", 0, 15])) \n",
    "print(filter_list([1, 2, \"aasf\", \"1\", \"123\", 123]))  \n",
    "\n"
   ]
  },
  {
   "cell_type": "code",
   "execution_count": null,
   "id": "ce6d9256-6f02-42be-a7d3-747c20ea041a",
   "metadata": {},
   "outputs": [],
   "source": [
    "Question 2\n",
    "The \"Reverser\" takes a string as input and returns that string in reverse order, with the opposite case.\n",
    "Examples\n",
    "reverse(\"Hello World\") ➞ \"DLROw OLLEh\"\n",
    "\n",
    "reverse(\"ReVeRsE\") ➞ \"eSrEvEr\"\n",
    "\n",
    "reverse(\"Radar\") ➞ \"RADAr\""
   ]
  },
  {
   "cell_type": "code",
   "execution_count": 1,
   "id": "ecae0f66-e559-4936-a7cb-46e93b26fd34",
   "metadata": {},
   "outputs": [
    {
     "name": "stdout",
     "output_type": "stream",
     "text": [
      "DLROw OLLEh\n",
      "eSrEvEr\n",
      "RADAr\n"
     ]
    }
   ],
   "source": [
    "def reverse(input_str):\n",
    "    result = \"\"\n",
    "    for char in input_str[::-1]:\n",
    "        if char.islower():\n",
    "            result += char.upper()\n",
    "        elif char.isupper():\n",
    "            result += char.lower()\n",
    "        else:\n",
    "            result += char\n",
    "    return result\n",
    "\n",
    "\n",
    "print(reverse(\"Hello World\")) \n",
    "print(reverse(\"ReVeRsE\"))  \n",
    "print(reverse(\"Radar\")) \n"
   ]
  },
  {
   "cell_type": "code",
   "execution_count": null,
   "id": "4f716ed9-7563-4c22-828f-0c1bc6e421ae",
   "metadata": {},
   "outputs": [],
   "source": [
    "Question 3\n",
    "You can assign variables from lists like this:\n",
    "lst = [1, 2, 3, 4, 5, 6]\n",
    "first = lst[0]\n",
    "middle = lst[1:-1]\n",
    "last = lst[-1]\n",
    "\n",
    "print(first) ➞ outputs 1\n",
    "print(middle) ➞ outputs [2, 3, 4, 5]\n",
    "print(last) ➞ outputs 6\n",
    "With Python 3, you can assign variables from lists in a much more succinct way. Create variables first, middle and last from the given list using destructuring assignment (check the Resources tab for some examples), where:\n",
    "first  ➞ 1\n",
    "\n",
    "middle ➞ [2, 3, 4, 5]\n",
    "\n",
    "last ➞ 6\n",
    "Your task is to unpack the list writeyourcodehere into three variables, being first, middle, and last, with middle being everything in between the first and last element. Then print all three variables.\n"
   ]
  },
  {
   "cell_type": "code",
   "execution_count": 1,
   "id": "80171e28-524a-4a19-9e51-1fbf72062980",
   "metadata": {},
   "outputs": [
    {
     "name": "stdout",
     "output_type": "stream",
     "text": [
      "1\n",
      "[2, 3, 4, 5]\n",
      "6\n"
     ]
    }
   ],
   "source": [
    "\n",
    "writeyourcodehere = [1, 2, 3, 4, 5, 6]\n",
    "\n",
    "\n",
    "first, *middle, last = writeyourcodehere\n",
    "\n",
    "\n",
    "print(first)  \n",
    "print(middle) \n",
    "print(last)  \n"
   ]
  },
  {
   "cell_type": "code",
   "execution_count": null,
   "id": "630f3bd8-c258-4329-9da6-b5078bc2c662",
   "metadata": {},
   "outputs": [],
   "source": [
    "Question 4\n",
    "Write a function that calculates the factorial of a number recursively.\n",
    "Examples\n",
    "factorial(5) ➞ 120\n",
    "\n",
    "factorial(3) ➞ 6\n",
    "\n",
    "factorial(1) ➞ 1\n",
    "\n",
    "factorial(0) ➞ 1"
   ]
  },
  {
   "cell_type": "code",
   "execution_count": 3,
   "id": "f7c80def-65d3-45ac-b9f5-bb2cbb610a32",
   "metadata": {},
   "outputs": [
    {
     "name": "stdout",
     "output_type": "stream",
     "text": [
      "120\n",
      "6\n",
      "1\n",
      "1\n"
     ]
    }
   ],
   "source": [
    "def factorial(n):\n",
    "    if n == 0 or n == 1:\n",
    "        return 1\n",
    "    else:\n",
    "        return n * factorial(n - 1)\n",
    "\n",
    "\n",
    "print(factorial(5))  \n",
    "print(factorial(3))  \n",
    "print(factorial(1)) \n",
    "print(factorial(0)) \n"
   ]
  },
  {
   "cell_type": "code",
   "execution_count": null,
   "id": "278b2cf5-646e-4483-baa5-67816bea3e61",
   "metadata": {},
   "outputs": [],
   "source": [
    "Question 5\n",
    "Write a function that moves all elements of one type to the end of the list.\n",
    "Examples\n",
    "move_to_end([1, 3, 2, 4, 4, 1], 1) ➞ [3, 2, 4, 4, 1, 1]\n",
    "# Move all the 1s to the end of the array.\n",
    "\n",
    "move_to_end([7, 8, 9, 1, 2, 3, 4], 9) ➞ [7, 8, 1, 2, 3, 4, 9]\n",
    "\n",
    "move_to_end([\"a\", \"a\", \"a\", \"b\"], \"a\") ➞ [\"b\", \"a\", \"a\", \"a\"]"
   ]
  },
  {
   "cell_type": "code",
   "execution_count": 2,
   "id": "7f3da218-1155-4e7e-8225-52e4e897f4e7",
   "metadata": {},
   "outputs": [
    {
     "name": "stdout",
     "output_type": "stream",
     "text": [
      "[3, 2, 4, 4, 1, 1]\n",
      "[7, 8, 1, 2, 3, 4, 9]\n",
      "['b', 'a', 'a', 'a']\n"
     ]
    }
   ],
   "source": [
    "def move_to_end(lst, element):\n",
    "    result = [x for x in lst if x != element]  \n",
    "    count = lst.count(element) \n",
    "    result.extend([element] * count)  \n",
    "    return result\n",
    "\n",
    "\n",
    "print(move_to_end([1, 3, 2, 4, 4, 1], 1))  \n",
    "print(move_to_end([7, 8, 9, 1, 2, 3, 4], 9))  \n",
    "print(move_to_end([\"a\", \"a\", \"a\", \"b\"], \"a\"))  \n"
   ]
  }
 ],
 "metadata": {
  "kernelspec": {
   "display_name": "Python 3 (ipykernel)",
   "language": "python",
   "name": "python3"
  },
  "language_info": {
   "codemirror_mode": {
    "name": "ipython",
    "version": 3
   },
   "file_extension": ".py",
   "mimetype": "text/x-python",
   "name": "python",
   "nbconvert_exporter": "python",
   "pygments_lexer": "ipython3",
   "version": "3.10.6"
  }
 },
 "nbformat": 4,
 "nbformat_minor": 5
}
