{
 "cells": [
  {
   "cell_type": "markdown",
   "id": "7126be3b-a1ae-417c-8dd1-1ccef00976f7",
   "metadata": {},
   "source": [
    "## Basic Programming Assignment no.19"
   ]
  },
  {
   "cell_type": "code",
   "execution_count": null,
   "id": "f42c4296-2dd8-4b77-8fbd-a8267b267612",
   "metadata": {},
   "outputs": [],
   "source": [
    "Question1\n",
    "Create a function that takes a string and returns a string in which each character is repeated once.\n",
    "Examples\n",
    "double_char(\"String\") ➞ \"SSttrriinngg\"\n",
    "\n",
    "double_char(\"Hello World!\") ➞ \"HHeelllloo  WWoorrlldd!!\"\n",
    "\n",
    "double_char(\"1234!_ \") ➞ \"11223344!!__  \""
   ]
  },
  {
   "cell_type": "code",
   "execution_count": 1,
   "id": "7044e99a-6eb1-4089-a74e-3a84a0fca279",
   "metadata": {},
   "outputs": [
    {
     "name": "stdout",
     "output_type": "stream",
     "text": [
      "SSttrriinngg\n"
     ]
    }
   ],
   "source": [
    "def double_char(input_string):\n",
    "    doubled_string = \"\"\n",
    "    for char in input_string:\n",
    "        doubled_string += char * 2\n",
    "    return doubled_string\n",
    "\n",
    "result = double_char(\"String\")\n",
    "print(result) \n"
   ]
  },
  {
   "cell_type": "code",
   "execution_count": null,
   "id": "312832b6-f0cf-4230-920b-e6a808e1e850",
   "metadata": {},
   "outputs": [],
   "source": [
    "Question2\n",
    "Create a function that reverses a boolean value and returns the string \"boolean expected\" if another variable type is given.\n",
    "Examples\n",
    "reverse(True) ➞ False\n",
    "\n",
    "reverse(False) ➞ True\n",
    "\n",
    "reverse(0) ➞ \"boolean expected\"\n",
    "\n",
    "reverse(None) ➞ \"boolean expected\""
   ]
  },
  {
   "cell_type": "code",
   "execution_count": 2,
   "id": "7543c703-e23a-43e6-91f7-5104b75971f2",
   "metadata": {},
   "outputs": [
    {
     "name": "stdout",
     "output_type": "stream",
     "text": [
      "False\n",
      "True\n",
      "boolean expected\n",
      "boolean expected\n"
     ]
    }
   ],
   "source": [
    "def reverse(value):\n",
    "    if isinstance(value, bool):\n",
    "        return not value\n",
    "    else:\n",
    "        return \"boolean expected\"\n",
    "\n",
    "result1 = reverse(True)\n",
    "result2 = reverse(False)\n",
    "result3 = reverse(0)\n",
    "result4 = reverse(None)\n",
    "\n",
    "print(result1) \n",
    "print(result2)  \n",
    "print(result3)  \n",
    "print(result4)  \n"
   ]
  },
  {
   "cell_type": "code",
   "execution_count": null,
   "id": "756e2423-4658-4ffb-b625-ed6016f980fb",
   "metadata": {},
   "outputs": [],
   "source": [
    "Question3\n",
    "Create a function that returns the thickness (in meters) of a piece of paper after folding it n number of times. The paper starts off with a thickness of 0.5mm.\n",
    "Examples\n",
    "num_layers(1) ➞ \"0.001m\"\n",
    "# Paper folded once is 1mm (equal to 0.001m)\n",
    "\n",
    "num_layers(4) ➞ \"0.008m\"\n",
    "# Paper folded 4 times is 8mm (equal to 0.008m)\n",
    "\n",
    "num_layers(21) ➞ \"1048.576m\"\n",
    "# Paper folded 21 times is 1048576mm (equal to 1048.576m)"
   ]
  },
  {
   "cell_type": "code",
   "execution_count": 3,
   "id": "8c145b97-5a1d-4407-9c56-4dd6cbadda40",
   "metadata": {},
   "outputs": [
    {
     "name": "stdout",
     "output_type": "stream",
     "text": [
      "0.001m\n",
      "0.008m\n",
      "1048.576m\n"
     ]
    }
   ],
   "source": [
    "def num_layers(n):\n",
    "    thickness_mm = 0.5\n",
    "\n",
    "    thickness_m = thickness_mm / 1000.0\n",
    "\n",
    "    # Fold the paper n times\n",
    "    for _ in range(n):\n",
    "        thickness_mm *= 2\n",
    "        thickness_m = thickness_mm / 1000.0\n",
    "\n",
    "    # Format the result as a string with 3 decimal places\n",
    "    result = \"{:.3f}m\".format(thickness_m)\n",
    "\n",
    "    return result\n",
    "\n",
    "result1 = num_layers(1)\n",
    "result2 = num_layers(4)\n",
    "result3 = num_layers(21)\n",
    "\n",
    "print(result1)  \n",
    "print(result2)  \n",
    "print(result3)  \n"
   ]
  },
  {
   "cell_type": "code",
   "execution_count": null,
   "id": "1efd0ff7-a751-4220-b9c7-1cb3739cd280",
   "metadata": {},
   "outputs": [],
   "source": [
    "Question4\n",
    "Create a function that takes a single string as argument and returns an ordered list containing the indices of all capital letters in the string.\n",
    "Examples\n",
    "index_of_caps(\"eDaBiT\") ➞ [1, 3, 5]\n",
    "\n",
    "index_of_caps(\"eQuINoX\") ➞ [1, 3, 4, 6]\n",
    "\n",
    "index_of_caps(\"determine\") ➞ []\n",
    "\n",
    "index_of_caps(\"STRIKE\") ➞ [0, 1, 2, 3, 4, 5]\n",
    "\n",
    "index_of_caps(\"sUn\") ➞ [1]"
   ]
  },
  {
   "cell_type": "code",
   "execution_count": 4,
   "id": "e2ef7d75-52d7-4496-86e4-abd39442f772",
   "metadata": {},
   "outputs": [
    {
     "name": "stdout",
     "output_type": "stream",
     "text": [
      "[1, 3, 5]\n",
      "[1, 3, 4, 6]\n",
      "[]\n",
      "[0, 1, 2, 3, 4, 5]\n",
      "[1]\n"
     ]
    }
   ],
   "source": [
    "def index_of_caps(input_string):\n",
    "    cap_indices = []\n",
    "\n",
    "    for index, char in enumerate(input_string):\n",
    "        if char.isupper():\n",
    "            cap_indices.append(index)\n",
    "\n",
    "    return cap_indices\n",
    "\n",
    "result1 = index_of_caps(\"eDaBiT\")\n",
    "result2 = index_of_caps(\"eQuINoX\")\n",
    "result3 = index_of_caps(\"determine\")\n",
    "result4 = index_of_caps(\"STRIKE\")\n",
    "result5 = index_of_caps(\"sUn\")\n",
    "\n",
    "print(result1)  \n",
    "print(result2) \n",
    "print(result3) \n",
    "print(result4)  \n",
    "print(result5) \n"
   ]
  },
  {
   "cell_type": "code",
   "execution_count": null,
   "id": "facb0448-8abc-4cee-9066-629cf0272ea4",
   "metadata": {},
   "outputs": [],
   "source": [
    "Question5\n",
    "Using list comprehensions, create a function that finds all even numbers from 1 to the given number.\n",
    "Examples\n",
    "find_even_nums(8) ➞ [2, 4, 6, 8]\n",
    "\n",
    "find_even_nums(4) ➞ [2, 4]\n",
    "\n",
    "find_even_nums(2) ➞ [2]"
   ]
  },
  {
   "cell_type": "code",
   "execution_count": 6,
   "id": "8aab9d84-39ea-4c4b-92c1-e203b608ee68",
   "metadata": {},
   "outputs": [
    {
     "name": "stdout",
     "output_type": "stream",
     "text": [
      "[2, 4, 6, 8]\n",
      "[2, 4]\n",
      "[2]\n"
     ]
    }
   ],
   "source": [
    "def find_even_nums(n):\n",
    "    return [x for x in range(1, n + 1) if x % 2 == 0]\n",
    "\n",
    "# Test cases\n",
    "print(find_even_nums(8)) \n",
    "print(find_even_nums(4)) \n",
    "print(find_even_nums(2))  \n"
   ]
  }
 ],
 "metadata": {
  "kernelspec": {
   "display_name": "Python 3 (ipykernel)",
   "language": "python",
   "name": "python3"
  },
  "language_info": {
   "codemirror_mode": {
    "name": "ipython",
    "version": 3
   },
   "file_extension": ".py",
   "mimetype": "text/x-python",
   "name": "python",
   "nbconvert_exporter": "python",
   "pygments_lexer": "ipython3",
   "version": "3.10.6"
  }
 },
 "nbformat": 4,
 "nbformat_minor": 5
}
