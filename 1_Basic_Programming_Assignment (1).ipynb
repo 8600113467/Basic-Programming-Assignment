{
 "cells": [
  {
   "cell_type": "markdown",
   "id": "44171278-8267-4abe-89e6-d27ea8aa7cc6",
   "metadata": {},
   "source": [
    "## Basic Programming Assignment No.1"
   ]
  },
  {
   "cell_type": "code",
   "execution_count": null,
   "id": "ff43eed6-f36e-4522-ab11-70e49574b1af",
   "metadata": {},
   "outputs": [],
   "source": [
    "1. Write a Python program to print &quot;Hello Python&quot;?\n",
    "2. Write a Python program to do arithmetical operations addition and division.?\n",
    "3. Write a Python program to find the area of a triangle?\n",
    "4. Write a Python program to swap two variables?\n",
    "5. Write a Python program to generate a random number?"
   ]
  },
  {
   "cell_type": "code",
   "execution_count": null,
   "id": "1e5880ab-faa9-437e-8a99-656f266ec3e4",
   "metadata": {},
   "outputs": [],
   "source": [
    "1. Write a Python program to print &quot;Hello Python&quot;?"
   ]
  },
  {
   "cell_type": "code",
   "execution_count": 3,
   "id": "73b5f810-948f-497f-9c1d-e974781fafad",
   "metadata": {},
   "outputs": [
    {
     "name": "stdout",
     "output_type": "stream",
     "text": [
      "hello world\n"
     ]
    }
   ],
   "source": [
    "print(\"hello world\")"
   ]
  },
  {
   "cell_type": "code",
   "execution_count": null,
   "id": "5c33d461-e3fb-4986-b210-0d82e138e1a8",
   "metadata": {},
   "outputs": [],
   "source": [
    "2. Write a Python program to do arithmetical operations addition and division.?"
   ]
  },
  {
   "cell_type": "code",
   "execution_count": 7,
   "id": "36c2011a-db5f-4378-9740-9c05d9a851c9",
   "metadata": {},
   "outputs": [],
   "source": [
    "class calculator:\n",
    "    \n",
    "    def addition(a,b):\n",
    "        return a+b\n",
    "    def division(a,b):\n",
    "        return a/b\n"
   ]
  },
  {
   "cell_type": "code",
   "execution_count": 11,
   "id": "3f78024a-2c90-484b-9f17-24a18db5ac3a",
   "metadata": {},
   "outputs": [
    {
     "data": {
      "text/plain": [
       "12"
      ]
     },
     "execution_count": 11,
     "metadata": {},
     "output_type": "execute_result"
    }
   ],
   "source": [
    "addition(10,2)"
   ]
  },
  {
   "cell_type": "code",
   "execution_count": 10,
   "id": "22bc46c1-2668-4a10-bc0d-dbcfff0abd9f",
   "metadata": {},
   "outputs": [
    {
     "data": {
      "text/plain": [
       "14"
      ]
     },
     "execution_count": 10,
     "metadata": {},
     "output_type": "execute_result"
    }
   ],
   "source": [
    "calculator.addition(10,4)"
   ]
  },
  {
   "cell_type": "code",
   "execution_count": 12,
   "id": "9814cf52-3881-41d8-8b92-aeeabe820cfc",
   "metadata": {},
   "outputs": [
    {
     "data": {
      "text/plain": [
       "23"
      ]
     },
     "execution_count": 12,
     "metadata": {},
     "output_type": "execute_result"
    }
   ],
   "source": [
    "addition(11,12)"
   ]
  },
  {
   "cell_type": "code",
   "execution_count": null,
   "id": "62072beb-0001-4483-b229-601d82fa1406",
   "metadata": {},
   "outputs": [],
   "source": [
    "3. Write a Python program to find the area of a triangle?"
   ]
  },
  {
   "cell_type": "code",
   "execution_count": 1,
   "id": "9ed46c42-b218-406e-8065-ee730c7230b9",
   "metadata": {},
   "outputs": [],
   "source": [
    "def triangle_area(base,height):\n",
    "    area=0.5 *base*height\n",
    "    return area"
   ]
  },
  {
   "cell_type": "code",
   "execution_count": 2,
   "id": "749298b3-1147-49a4-bb43-5a53d2aef3d1",
   "metadata": {},
   "outputs": [
    {
     "data": {
      "text/plain": [
       "25.0"
      ]
     },
     "execution_count": 2,
     "metadata": {},
     "output_type": "execute_result"
    }
   ],
   "source": [
    "triangle_area(10,5)"
   ]
  },
  {
   "cell_type": "code",
   "execution_count": null,
   "id": "d5347cc2-eab9-4e6d-a1de-03a1aeb85b9b",
   "metadata": {},
   "outputs": [],
   "source": [
    "4. Write a Python program to swap two variables?\n"
   ]
  },
  {
   "cell_type": "code",
   "execution_count": 20,
   "id": "07e3fc4b-a26a-4d87-b442-12b777755ef4",
   "metadata": {},
   "outputs": [
    {
     "name": "stdout",
     "output_type": "stream",
     "text": [
      "Before swapping:\n",
      "a = 5\n",
      "b = 10\n",
      "\n",
      "After swapping:\n",
      "a = 10\n",
      "b = 5\n"
     ]
    }
   ],
   "source": [
    "# Input values\n",
    "a = 5\n",
    "b = 10\n",
    "\n",
    "# Print the values before swapping\n",
    "print(\"Before swapping:\")\n",
    "print(\"a =\", a)\n",
    "print(\"b =\", b)\n",
    "\n",
    "# Swap the values without using a temporary variable\n",
    "a = a + b\n",
    "b = a - b\n",
    "a = a - b\n",
    "\n",
    "# Print the values after swapping\n",
    "print(\"\\nAfter swapping:\")\n",
    "print(\"a =\", a)\n",
    "print(\"b =\", b)\n"
   ]
  },
  {
   "cell_type": "code",
   "execution_count": null,
   "id": "93a7f2c7-f0c3-4537-bc74-9436e56946a8",
   "metadata": {},
   "outputs": [],
   "source": [
    "5. Write a Python program to generate a random number?"
   ]
  },
  {
   "cell_type": "code",
   "execution_count": 21,
   "id": "d286d59f-9540-44d6-b63f-93f8347f2339",
   "metadata": {},
   "outputs": [
    {
     "name": "stdout",
     "output_type": "stream",
     "text": [
      "Random number: 58\n"
     ]
    }
   ],
   "source": [
    "import random\n",
    "# Generate a random integer between 1 and 100 (inclusive)\n",
    "random_number = random.randint(1, 100)\n",
    "\n",
    "print(\"Random number:\", random_number)\n"
   ]
  },
  {
   "cell_type": "code",
   "execution_count": null,
   "id": "fd1d1743-f2ea-40cc-a2f4-6d5c432c7b14",
   "metadata": {},
   "outputs": [],
   "source": []
  }
 ],
 "metadata": {
  "kernelspec": {
   "display_name": "Python 3 (ipykernel)",
   "language": "python",
   "name": "python3"
  },
  "language_info": {
   "codemirror_mode": {
    "name": "ipython",
    "version": 3
   },
   "file_extension": ".py",
   "mimetype": "text/x-python",
   "name": "python",
   "nbconvert_exporter": "python",
   "pygments_lexer": "ipython3",
   "version": "3.10.6"
  }
 },
 "nbformat": 4,
 "nbformat_minor": 5
}
