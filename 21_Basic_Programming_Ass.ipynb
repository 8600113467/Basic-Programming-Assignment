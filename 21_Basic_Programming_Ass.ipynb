{
 "cells": [
  {
   "cell_type": "markdown",
   "id": "f14ce6ba-4ee7-4b3d-9910-fa87fc4ba2b3",
   "metadata": {},
   "source": [
    "## Basic Programming Assignment no.21"
   ]
  },
  {
   "cell_type": "code",
   "execution_count": null,
   "id": "df51adfd-0771-4df5-a814-9aa138738659",
   "metadata": {},
   "outputs": [],
   "source": [
    "Question1\n",
    "Write a function that takes a list and a number as arguments. Add the number to the end of the list, then remove the first element of the list. The function should then return the updated list.\n",
    "Examples\n",
    "next_in_line([5, 6, 7, 8, 9], 1) ➞ [6, 7, 8, 9, 1]\n",
    "\n",
    "next_in_line([7, 6, 3, 23, 17], 10) ➞ [6, 3, 23, 17, 10]\n",
    "\n",
    "next_in_line([1, 10, 20, 42 ], 6) ➞ [10, 20, 42, 6]\n",
    "\n",
    "next_in_line([], 6) ➞ \"No list has been selected\""
   ]
  },
  {
   "cell_type": "code",
   "execution_count": 1,
   "id": "8e600ce2-71fb-47de-a4a7-fb74799628df",
   "metadata": {},
   "outputs": [
    {
     "name": "stdout",
     "output_type": "stream",
     "text": [
      "[6, 7, 8, 9, 1]\n",
      "[6, 3, 23, 17, 10]\n",
      "[10, 20, 42, 6]\n",
      "No list has been selected\n"
     ]
    }
   ],
   "source": [
    "def next_in_line(lst, num):\n",
    "    if not lst:\n",
    "        return \"No list has been selected\"  # Handle the case where the list is empty\n",
    "    lst.append(num)\n",
    "    lst.pop(0) \n",
    "    return lst\n",
    "\n",
    "print(next_in_line([5, 6, 7, 8, 9], 1)) \n",
    "print(next_in_line([7, 6, 3, 23, 17], 10))  \n",
    "print(next_in_line([1, 10, 20, 42], 6)) \n",
    "print(next_in_line([], 6))  \n"
   ]
  },
  {
   "cell_type": "code",
   "execution_count": null,
   "id": "8a16efa1-dfe9-4012-907a-4b3456f69ccb",
   "metadata": {},
   "outputs": [],
   "source": [
    "Question2\n",
    "Create the function that takes a list of dictionaries and returns the sum of people's budgets.\n",
    "Examples\n",
    "get_budgets([\n",
    "  { \"name\": \"John\", \"age\": 21, \"budget\": 23000 },\n",
    "  { \"name\": \"Steve\",  \"age\": 32, \"budget\": 40000 },\n",
    "  { \"name\": \"Martin\",  \"age\": 16, \"budget\": 2700 }\n",
    "]) ➞ 65700\n",
    "\n",
    "get_budgets([\n",
    "  { \"name\": \"John\",  \"age\": 21, \"budget\": 29000 },\n",
    "  { \"name\": \"Steve\",  \"age\": 32, \"budget\": 32000 },\n",
    "  { \"name\": \"Martin\",  \"age\": 16, \"budget\": 1600 }\n",
    "]) ➞ 62600"
   ]
  },
  {
   "cell_type": "code",
   "execution_count": 1,
   "id": "af008b97-004b-4379-bb7b-5c7715b9d2da",
   "metadata": {},
   "outputs": [
    {
     "name": "stdout",
     "output_type": "stream",
     "text": [
      "65700\n",
      "62600\n"
     ]
    }
   ],
   "source": [
    "def get_budgets(lst):\n",
    "    total_budget = 0\n",
    "    for person in lst:\n",
    "        total_budget += person[\"budget\"]\n",
    "    return total_budget\n",
    "\n",
    "\n",
    "print(get_budgets([\n",
    "  { \"name\": \"John\", \"age\": 21, \"budget\": 23000 },\n",
    "  { \"name\": \"Steve\",  \"age\": 32, \"budget\": 40000 },\n",
    "  { \"name\": \"Martin\",  \"age\": 16, \"budget\": 2700 }\n",
    "]))  \n",
    "\n",
    "print(get_budgets([\n",
    "  { \"name\": \"John\",  \"age\": 21, \"budget\": 29000 },\n",
    "  { \"name\": \"Steve\",  \"age\": 32, \"budget\": 32000 },\n",
    "  { \"name\": \"Martin\",  \"age\": 16, \"budget\": 1600 }\n",
    "])) \n",
    "\n"
   ]
  },
  {
   "cell_type": "code",
   "execution_count": null,
   "id": "5e21fd4a-afbb-4ca7-85cc-4c0fb6bf813d",
   "metadata": {},
   "outputs": [],
   "source": [
    "Question3\n",
    "Create a function that takes a string and returns a string with its letters in alphabetical order.\n",
    "Examples\n",
    "alphabet_soup(\"hello\") ➞ \"ehllo\"\n",
    "\n",
    "alphabet_soup(\"edabit\") ➞ \"abdeit\"\n",
    "\n",
    "alphabet_soup(\"hacker\") ➞ \"acehkr\"\n",
    "\n",
    "alphabet_soup(\"geek\") ➞ \"eegk\"\n",
    "\n",
    "alphabet_soup(\"javascript\") ➞ \"aacijprstv\""
   ]
  },
  {
   "cell_type": "code",
   "execution_count": 2,
   "id": "1dfd5c52-70e1-46fc-918a-c86e77be1bcf",
   "metadata": {},
   "outputs": [
    {
     "name": "stdout",
     "output_type": "stream",
     "text": [
      "ehllo\n",
      "abdeit\n",
      "acehkr\n",
      "eegk\n",
      "aacijprstv\n"
     ]
    }
   ],
   "source": [
    "def alphabet_soup(text):\n",
    "    # Use sorted() to sort the letters in the string and join them back into a string\n",
    "    sorted_text = ''.join(sorted(text))\n",
    "    return sorted_text\n",
    "\n",
    "\n",
    "print(alphabet_soup(\"hello\")) \n",
    "print(alphabet_soup(\"edabit\")) \n",
    "print(alphabet_soup(\"hacker\")) \n",
    "print(alphabet_soup(\"geek\")) \n",
    "print(alphabet_soup(\"javascript\")) "
   ]
  },
  {
   "cell_type": "code",
   "execution_count": null,
   "id": "a9cf86ff-4ea3-4873-8f04-dfd97dad07ec",
   "metadata": {},
   "outputs": [],
   "source": [
    "Question4\n",
    "Suppose that you invest $10,000 for 10 years at an interest rate of 6% compounded monthly. What will be the value of your investment at the end of the 10 year period?\n",
    "Create a function that accepts the principal p, the term in years t, the interest rate r, and the number of compounding periods per year n. The function returns the value at the end of term rounded to the nearest cent.\n",
    "For the example above:\n",
    "compound_interest(10000, 10, 0.06, 12) ➞ 18193.97\n",
    "Note that the interest rate is given as a decimal and n=12 because with monthly compounding there are 12 periods per year. Compounding can also be done annually, quarterly, weekly, or daily.\n",
    "Examples\n",
    "compound_interest(100, 1, 0.05, 1) ➞ 105.0\n",
    "\n",
    "compound_interest(3500, 15, 0.1, 4) ➞ 15399.26\n",
    "\n",
    "compound_interest(100000, 20, 0.15, 365) ➞ 2007316.26"
   ]
  },
  {
   "cell_type": "code",
   "execution_count": 3,
   "id": "2873fdd0-02bc-4c74-9ee3-ab5beb79201b",
   "metadata": {},
   "outputs": [
    {
     "name": "stdout",
     "output_type": "stream",
     "text": [
      "18193.97\n",
      "105.0\n",
      "15399.26\n",
      "2007316.26\n"
     ]
    }
   ],
   "source": [
    "def compound_interest(p, t, r, n):\n",
    "    # Calculate the future value using the formula\n",
    "    a = p * (1 + (r / n))**(n * t)\n",
    "    return round(a, 2)  # Round to the nearest cent\n",
    "\n",
    "\n",
    "print(compound_interest(10000, 10, 0.06, 12))  \n",
    "print(compound_interest(100, 1, 0.05, 1)) \n",
    "print(compound_interest(3500, 15, 0.1, 4))  \n",
    "print(compound_interest(100000, 20, 0.15, 365)) \n"
   ]
  },
  {
   "cell_type": "code",
   "execution_count": null,
   "id": "429938b4-6395-47c6-8880-858ae91aa461",
   "metadata": {},
   "outputs": [],
   "source": [
    "Question5\n",
    "Write a function that takes a list of elements and returns only the integers.\n",
    "Examples\n",
    "return_only_integer([9, 2, \"space\", \"car\", \"lion\", 16]) ➞ [9, 2, 16]\n",
    "\n",
    "return_only_integer([\"hello\", 81, \"basketball\", 123, \"fox\"]) ➞ [81, 123]\n",
    "\n",
    "return_only_integer([10, \"121\", 56, 20, \"car\", 3, \"lion\"]) ➞ [10, 56, 20, 3]\n",
    "\n",
    "return_only_integer([\"String\",  True,  3.3,  1]) ➞ [1]"
   ]
  },
  {
   "cell_type": "code",
   "execution_count": 1,
   "id": "cc43650f-8375-49c3-80ba-11c7c2837ec3",
   "metadata": {},
   "outputs": [
    {
     "name": "stdout",
     "output_type": "stream",
     "text": [
      "[9, 2, 16]\n",
      "[81, 123]\n",
      "[10, 56, 20, 3]\n",
      "[True, 1]\n"
     ]
    }
   ],
   "source": [
    "def return_only_integer(lst):\n",
    "    return [x for x in lst if isinstance(x, int)]\n",
    "\n",
    "\n",
    "print(return_only_integer([9, 2, \"space\", \"car\", \"lion\", 16])) \n",
    "print(return_only_integer([\"hello\", 81, \"basketball\", 123, \"fox\"]))  \n",
    "print(return_only_integer([10, \"121\", 56, 20, \"car\", 3, \"lion\"])) \n",
    "print(return_only_integer([\"String\", True, 3.3, 1])) \n"
   ]
  },
  {
   "cell_type": "code",
   "execution_count": null,
   "id": "7e31d3aa-764b-46a6-a0a6-f88ca020914d",
   "metadata": {},
   "outputs": [],
   "source": []
  }
 ],
 "metadata": {
  "kernelspec": {
   "display_name": "Python 3 (ipykernel)",
   "language": "python",
   "name": "python3"
  },
  "language_info": {
   "codemirror_mode": {
    "name": "ipython",
    "version": 3
   },
   "file_extension": ".py",
   "mimetype": "text/x-python",
   "name": "python",
   "nbconvert_exporter": "python",
   "pygments_lexer": "ipython3",
   "version": "3.10.6"
  }
 },
 "nbformat": 4,
 "nbformat_minor": 5
}
