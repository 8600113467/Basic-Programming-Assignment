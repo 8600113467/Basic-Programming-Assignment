{
 "cells": [
  {
   "cell_type": "markdown",
   "id": "fc3ae60e-22ea-4714-8948-ebdb36884bef",
   "metadata": {},
   "source": [
    "## Basic Programming Assignment no.22"
   ]
  },
  {
   "cell_type": "code",
   "execution_count": null,
   "id": "89b29e70-4a23-4fa6-9761-2ea954010869",
   "metadata": {},
   "outputs": [],
   "source": [
    "Question1\n",
    "Create a function that takes three parameters where:\n",
    "x is the start of the range (inclusive).\n",
    "y is the end of the range (inclusive).\n",
    "n is the divisor to be checked against.\n",
    "Return an ordered list with numbers in the range that are divisible by the third parameter n. Return an empty list if there are no numbers that are divisible by n.\n",
    "Examples\n",
    "list_operation(1, 10, 3) ➞ [3, 6, 9]\n",
    "\n",
    "list_operation(7, 9, 2) ➞ [8]\n",
    "\n",
    "list_operation(15, 20, 7) ➞ []"
   ]
  },
  {
   "cell_type": "code",
   "execution_count": 1,
   "id": "bcaee478-92ef-46ee-aaa1-1026f0c13df6",
   "metadata": {},
   "outputs": [
    {
     "name": "stdout",
     "output_type": "stream",
     "text": [
      "[3, 6, 9]\n",
      "[8]\n",
      "[]\n"
     ]
    }
   ],
   "source": [
    "def list_operation(x, y, n):\n",
    "    # Use a list comprehension to generate the list of divisible numbers\n",
    "    divisible_numbers = [num for num in range(x, y + 1) if num % n == 0]\n",
    "    return divisible_numbers\n",
    "\n",
    "print(list_operation(1, 10, 3))  \n",
    "print(list_operation(7, 9, 2))   \n",
    "print(list_operation(15, 20, 7)) \n"
   ]
  },
  {
   "cell_type": "code",
   "execution_count": null,
   "id": "3c0f314e-be82-4fd4-bc75-1dd4c9fad6c9",
   "metadata": {},
   "outputs": [],
   "source": [
    "Question2\n",
    "Create a function that takes in two lists and returns True if the second list follows the first list by one element, and False otherwise. In other words, determine if the second list is the first list shifted to the right by 1.\n",
    "Examples\n",
    "simon_says([1, 2], [5, 1]) ➞ True\n",
    "\n",
    "simon_says([1, 2], [5, 5]) ➞ False\n",
    "\n",
    "simon_says([1, 2, 3, 4, 5], [0, 1, 2, 3, 4]) ➞ True\n",
    "\n",
    "simon_says([1, 2, 3, 4, 5], [5, 5, 1, 2, 3]) ➞ False\n",
    "Notes\n",
    "Both input lists will be of the same length, and will have a minimum length of 2.\n",
    "The values of the 0-indexed element in the second list and the n-1th indexed element in the first list do not matter."
   ]
  },
  {
   "cell_type": "code",
   "execution_count": 2,
   "id": "76312abe-4988-48e0-86a1-b2e8f5f2d47b",
   "metadata": {},
   "outputs": [
    {
     "name": "stdout",
     "output_type": "stream",
     "text": [
      "True\n",
      "False\n",
      "True\n",
      "False\n"
     ]
    }
   ],
   "source": [
    "def simon_says(list1, list2):\n",
    "    \n",
    "    for i in range(len(list1) - 1):\n",
    "        if list1[i] != list2[i + 1]:\n",
    "            return False\n",
    "    return True\n",
    "\n",
    "print(simon_says([1, 2], [5, 1])) \n",
    "print(simon_says([1, 2], [5, 5])) \n",
    "print(simon_says([1, 2, 3, 4, 5], [0, 1, 2, 3, 4])) \n",
    "print(simon_says([1, 2, 3, 4, 5], [5, 5, 1, 2, 3])) "
   ]
  },
  {
   "cell_type": "code",
   "execution_count": null,
   "id": "ab86a599-4073-4e54-b7dd-b9e536695d88",
   "metadata": {},
   "outputs": [],
   "source": [
    "Question3\n",
    "A group of friends have decided to start a secret society. The name will be the first letter of each of their names, sorted in alphabetical order.\n",
    "Create a function that takes in a list of names and returns the name of the secret society.\n",
    "Examples\n",
    "society_name([\"Adam\", \"Sarah\", \"Malcolm\"]) ➞ \"AMS\"\n",
    "\n",
    "society_name([\"Harry\", \"Newt\", \"Luna\", \"Cho\"]) ➞ \"CHLN\"\n",
    "\n",
    "society_name([\"Phoebe\", \"Chandler\", \"Rachel\", \"Ross\", \"Monica\", \"Joey\"])"
   ]
  },
  {
   "cell_type": "code",
   "execution_count": 3,
   "id": "7ac091f6-2c9b-4fdd-bb8d-fa24f91a88c8",
   "metadata": {},
   "outputs": [
    {
     "name": "stdout",
     "output_type": "stream",
     "text": [
      "AMS\n",
      "CHLN\n",
      "CJMPRR\n"
     ]
    }
   ],
   "source": [
    "def society_name(names):\n",
    "    # Extract the first letter from each name and store them in a list\n",
    "    initials = [name[0] for name in names]\n",
    "    \n",
    "    # Sort the initials alphabetically\n",
    "    sorted_initials = sorted(initials)\n",
    "    \n",
    "    # Join the sorted initials to form the society name\n",
    "    society_name = ''.join(sorted_initials)\n",
    "    \n",
    "    return society_name\n",
    "\n",
    "\n",
    "print(society_name([\"Adam\", \"Sarah\", \"Malcolm\"]))  \n",
    "print(society_name([\"Harry\", \"Newt\", \"Luna\", \"Cho\"]))  \n",
    "print(society_name([\"Phoebe\", \"Chandler\", \"Rachel\", \"Ross\", \"Monica\", \"Joey\"])) \n"
   ]
  },
  {
   "cell_type": "code",
   "execution_count": null,
   "id": "227ba3e5-f703-4a1c-aaaa-2d6d2263eac4",
   "metadata": {},
   "outputs": [],
   "source": [
    "Question4\n",
    "An isogram is a word that has no duplicate letters. Create a function that takes a string and returns either True or False depending on whether or not it's an \"isogram\".\n",
    "Examples\n",
    "is_isogram(\"Algorism\") ➞ True\n",
    "\n",
    "is_isogram(\"PasSword\") ➞ False\n",
    "# Not case sensitive.\n",
    "\n",
    "is_isogram(\"Consecutive\") ➞ False\n",
    "Notes\n",
    "Ignore letter case (should not be case sensitive).\n",
    "All test cases contain valid one word strings."
   ]
  },
  {
   "cell_type": "code",
   "execution_count": 1,
   "id": "9dd98605-f069-4e3b-b4a8-a6714de24bb4",
   "metadata": {},
   "outputs": [
    {
     "name": "stdout",
     "output_type": "stream",
     "text": [
      "True\n",
      "False\n",
      "False\n"
     ]
    }
   ],
   "source": [
    "def is_isogram(word):\n",
    "    # Convert the word to lowercase\n",
    "    word = word.lower()\n",
    "    \n",
    "    # Use a set to keep track of unique characters\n",
    "    unique_chars = set()\n",
    "    \n",
    "    # Iterate through the characters in the lowercase word\n",
    "    for char in word:\n",
    "        # If a character is already in the set, it's a duplicate\n",
    "        if char in unique_chars:\n",
    "            return False\n",
    "        # Otherwise, add it to the set\n",
    "        unique_chars.add(char)\n",
    "    \n",
    "    return True\n",
    "\n",
    "\n",
    "print(is_isogram(\"Algorism\")) \n",
    "print(is_isogram(\"PasSword\")) \n",
    "print(is_isogram(\"Consecutive\"))  \n"
   ]
  },
  {
   "cell_type": "code",
   "execution_count": null,
   "id": "d9df9396-3bb9-47af-b13b-780a03775a35",
   "metadata": {},
   "outputs": [],
   "source": [
    "Question5\n",
    "Create a function that takes a string and returns True or False, depending on whether the characters are in order or not.\n",
    "Examples\n",
    "is_in_order(\"abc\") ➞ True\n",
    "\n",
    "is_in_order(\"edabit\") ➞ False\n",
    "\n",
    "is_in_order(\"123\") ➞ True\n",
    "\n",
    "is_in_order(\"xyzz\") ➞ True\n",
    "Notes\n",
    "You don't have to handle empty strings."
   ]
  },
  {
   "cell_type": "code",
   "execution_count": 2,
   "id": "2506b37f-bb98-4cb7-8485-2b143b39fb3d",
   "metadata": {},
   "outputs": [
    {
     "name": "stdout",
     "output_type": "stream",
     "text": [
      "True\n",
      "False\n",
      "True\n",
      "True\n"
     ]
    }
   ],
   "source": [
    "def is_in_order(s):\n",
    "    # Iterate through the characters in the string up to the second-to-last character\n",
    "    for i in range(len(s) - 1):\n",
    "        # Compare the current character with the next character\n",
    "        if s[i] > s[i + 1]:\n",
    "            return False\n",
    "    return True\n",
    "\n",
    "\n",
    "print(is_in_order(\"abc\"))  \n",
    "print(is_in_order(\"edabit\")) \n",
    "print(is_in_order(\"123\")) \n",
    "print(is_in_order(\"xyzz\"))  \n"
   ]
  }
 ],
 "metadata": {
  "kernelspec": {
   "display_name": "Python 3 (ipykernel)",
   "language": "python",
   "name": "python3"
  },
  "language_info": {
   "codemirror_mode": {
    "name": "ipython",
    "version": 3
   },
   "file_extension": ".py",
   "mimetype": "text/x-python",
   "name": "python",
   "nbconvert_exporter": "python",
   "pygments_lexer": "ipython3",
   "version": "3.10.6"
  }
 },
 "nbformat": 4,
 "nbformat_minor": 5
}
