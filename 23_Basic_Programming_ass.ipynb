{
 "cells": [
  {
   "cell_type": "markdown",
   "id": "6614ca1a-adfe-45e2-af71-16bf57c745d0",
   "metadata": {},
   "source": [
    "## Basic Programming Assignment no.23"
   ]
  },
  {
   "cell_type": "code",
   "execution_count": null,
   "id": "5bade213-6d41-4fbd-83bc-ca815547ff43",
   "metadata": {},
   "outputs": [],
   "source": [
    "Question 1\n",
    "Create a function that takes a number as an argument and returns True or False depending on whether the number is symmetrical or not. A number is symmetrical when it is the same as its reverse.\n",
    "Examples\n",
    "is_symmetrical(7227) ➞ True\n",
    "\n",
    "is_symmetrical(12567) ➞ False\n",
    "\n",
    "is_symmetrical(44444444) ➞ True\n",
    "\n",
    "is_symmetrical(9939) ➞ False\n",
    "\n",
    "is_symmetrical(1112111) ➞ True"
   ]
  },
  {
   "cell_type": "code",
   "execution_count": 1,
   "id": "8a7f3b88-4be9-46a0-8f42-df7b64f28e4a",
   "metadata": {},
   "outputs": [
    {
     "name": "stdout",
     "output_type": "stream",
     "text": [
      "True\n",
      "False\n",
      "True\n",
      "False\n",
      "True\n"
     ]
    }
   ],
   "source": [
    "def is_symmetrical(number):\n",
    "    # Convert the number to a string to easily reverse it\n",
    "    num_str = str(number)\n",
    "    \n",
    "    # Reverse the string and compare it to the original\n",
    "    if num_str == num_str[::-1]:\n",
    "        return True\n",
    "    else:\n",
    "        return False\n",
    "\n",
    "# Test cases\n",
    "print(is_symmetrical(7227))     \n",
    "print(is_symmetrical(12567))    \n",
    "print(is_symmetrical(44444444))  \n",
    "print(is_symmetrical(9939))      \n",
    "print(is_symmetrical(1112111))   \n"
   ]
  },
  {
   "cell_type": "code",
   "execution_count": null,
   "id": "aa954b95-dd12-4b0b-8f16-b95cf8004d23",
   "metadata": {},
   "outputs": [],
   "source": [
    "Question 2\n",
    "Given a string of numbers separated by a comma and space, return the product of the numbers.\n",
    "Examples\n",
    "multiply_nums(\"2, 3\") ➞ 6\n",
    "\n",
    "multiply_nums(\"1, 2, 3, 4\") ➞ 24\n",
    "\n",
    "multiply_nums(\"54, 75, 453, 0\") ➞ 0\n",
    "\n",
    "multiply_nums(\"10, -2\") ➞ -20\n"
   ]
  },
  {
   "cell_type": "code",
   "execution_count": 2,
   "id": "ec645f8e-8210-4e21-a498-8c8713f48cde",
   "metadata": {},
   "outputs": [
    {
     "name": "stdout",
     "output_type": "stream",
     "text": [
      "6\n",
      "24\n",
      "0\n",
      "-20\n"
     ]
    }
   ],
   "source": [
    "def multiply_nums(numbers_str):\n",
    "    # Split the input string by \", \" to get a list of numbers\n",
    "    numbers_list = numbers_str.split(\", \")\n",
    "    \n",
    "    # Initialize the result as 1\n",
    "    result = 1\n",
    "    \n",
    "    # Iterate through the list, convert each element to an integer, and multiply it with the result\n",
    "    for num_str in numbers_list:\n",
    "        num = int(num_str)\n",
    "        result *= num\n",
    "    \n",
    "    return result\n",
    "\n",
    "print(multiply_nums(\"2, 3\"))           \n",
    "print(multiply_nums(\"1, 2, 3, 4\"))     \n",
    "print(multiply_nums(\"54, 75, 453, 0\")) \n",
    "print(multiply_nums(\"10, -2\"))         \n"
   ]
  },
  {
   "cell_type": "code",
   "execution_count": null,
   "id": "eda3358f-1590-45bb-9bcf-2c73f2a9f155",
   "metadata": {},
   "outputs": [],
   "source": [
    "Question 4\n",
    "Create a function that sorts a list and removes all duplicate items from it.\n",
    "Examples\n",
    "setify([1, 3, 3, 5, 5]) ➞ [1, 3, 5]\n",
    "\n",
    "setify([4, 4, 4, 4]) ➞ [4]\n",
    "\n",
    "setify([5, 7, 8, 9, 10, 15]) ➞ [5, 7, 8, 9, 10, 15]\n",
    "\n",
    "setify([3, 3, 3, 2, 1]) ➞ [1, 2, 3]"
   ]
  },
  {
   "cell_type": "code",
   "execution_count": 1,
   "id": "9fea1a4d-0ae9-4c14-a617-eb601ef1f5db",
   "metadata": {},
   "outputs": [
    {
     "name": "stdout",
     "output_type": "stream",
     "text": [
      "[1, 3, 5]\n",
      "[4]\n",
      "[5, 7, 8, 9, 10, 15]\n",
      "[1, 2, 3]\n"
     ]
    }
   ],
   "source": [
    "def setify(input_list):\n",
    "    # Use the sorted() function to sort the list\n",
    "    sorted_list = sorted(input_list)\n",
    "    \n",
    "    # Create an empty set to store unique items\n",
    "    unique_set = set()\n",
    "    \n",
    "    # Initialize a result list\n",
    "    result = []\n",
    "    \n",
    "    # Iterate through the sorted list\n",
    "    for item in sorted_list:\n",
    "        # If the item is not in the unique set, add it to the result list and the unique set\n",
    "        if item not in unique_set:\n",
    "            result.append(item)\n",
    "            unique_set.add(item)\n",
    "    \n",
    "    return result\n",
    "\n",
    "print(setify([1, 3, 3, 5, 5]))            \n",
    "print(setify([4, 4, 4, 4]))               \n",
    "print(setify([5, 7, 8, 9, 10, 15]))      \n",
    "print(setify([3, 3, 3, 2, 1]))            \n"
   ]
  },
  {
   "cell_type": "code",
   "execution_count": null,
   "id": "49abafd4-abc8-420f-a004-c4c71f080f99",
   "metadata": {},
   "outputs": [],
   "source": [
    "Question 5\n",
    "Create a function that returns the mean of all digits.\n",
    "Examples\n",
    "mean(42) ➞ 3\n",
    "\n",
    "mean(12345) ➞ 3\n",
    "\n",
    "mean(666) ➞ 6\n",
    "Notes\n",
    "The mean of all digits is the sum of digits / how many digits there are (e.g. mean of digits in 512 is (5+1+2)/3(number of digits) = 8/3=2).\n",
    "The mean will always be an integer.\n"
   ]
  },
  {
   "cell_type": "code",
   "execution_count": 2,
   "id": "79971cd8-55ce-41fe-9256-76d18cbfe40b",
   "metadata": {},
   "outputs": [
    {
     "name": "stdout",
     "output_type": "stream",
     "text": [
      "3\n",
      "3\n",
      "6\n"
     ]
    }
   ],
   "source": [
    "def mean(number):\n",
    "    # Convert the number to a string to work with individual digits\n",
    "    num_str = str(number)\n",
    "    \n",
    "    # Calculate the sum of all digits\n",
    "    digit_sum = sum(int(digit) for digit in num_str)\n",
    "    \n",
    "    # Calculate the mean by dividing the sum by the number of digits\n",
    "    mean_value = digit_sum / len(num_str)\n",
    "    \n",
    "    # Return the mean as an integer (rounded down)\n",
    "    return int(mean_value)\n",
    "\n",
    "print(mean(42))     \n",
    "print(mean(12345))  \n",
    "print(mean(666))   \n"
   ]
  }
 ],
 "metadata": {
  "kernelspec": {
   "display_name": "Python 3 (ipykernel)",
   "language": "python",
   "name": "python3"
  },
  "language_info": {
   "codemirror_mode": {
    "name": "ipython",
    "version": 3
   },
   "file_extension": ".py",
   "mimetype": "text/x-python",
   "name": "python",
   "nbconvert_exporter": "python",
   "pygments_lexer": "ipython3",
   "version": "3.10.6"
  }
 },
 "nbformat": 4,
 "nbformat_minor": 5
}
