{
 "cells": [
  {
   "cell_type": "markdown",
   "id": "a82b965d-72bc-4100-9a44-30baaf754ede",
   "metadata": {},
   "source": [
    "## Basic Programming Assignment no.25"
   ]
  },
  {
   "cell_type": "code",
   "execution_count": null,
   "id": "4849fb8e-05b8-4dd6-8e4d-8b22ff821926",
   "metadata": {},
   "outputs": [],
   "source": [
    "Question1\n",
    "Create a function that takes three integer arguments (a, b, c) and returns the amount of integers which are of equal value.\n",
    "Examples\n",
    "equal(3, 4, 3) ➞ 2\n",
    "\n",
    "equal(1, 1, 1) ➞ 3\n",
    "\n",
    "equal(3, 4, 1) ➞ 0 \n",
    "Notes\n",
    "Your function must return 0, 2 or 3.\n"
   ]
  },
  {
   "cell_type": "code",
   "execution_count": 1,
   "id": "999131f5-0bb2-4951-b6d8-e08a2fe02262",
   "metadata": {},
   "outputs": [
    {
     "name": "stdout",
     "output_type": "stream",
     "text": [
      "2\n",
      "3\n",
      "0\n"
     ]
    }
   ],
   "source": [
    "def equal(a, b, c):\n",
    "    if a == b == c:\n",
    "        return 3\n",
    "    elif a == b or a == c or b == c:\n",
    "        return 2\n",
    "    else:\n",
    "        return 0\n",
    "\n",
    "print(equal(3, 4, 3)) \n",
    "print(equal(1, 1, 1)) \n",
    "print(equal(3, 4, 1)) \n"
   ]
  },
  {
   "cell_type": "code",
   "execution_count": null,
   "id": "c23772cb-2c25-4152-bcb9-78c409ab7965",
   "metadata": {},
   "outputs": [],
   "source": [
    "Question2\n",
    "Write a function that converts a dictionary into a list of keys-values tuples.\n",
    "Examples\n",
    "dict_to_list({\n",
    "  \"D\": 1,\n",
    "  \"B\": 2,\n",
    "  \"C\": 3\n",
    "}) ➞ [(\"B\", 2), (\"C\", 3), (\"D\", 1)]\n",
    "\n",
    "dict_to_list({\n",
    "  \"likes\": 2,\n",
    "  \"dislikes\": 3,\n",
    "  \"followers\": 10\n",
    "}) ➞ [(\"dislikes\", 3), (\"followers\", 10), (\"likes\", 2)]\n",
    "Notes\n",
    "Return the elements in the list in alphabetical order."
   ]
  },
  {
   "cell_type": "code",
   "execution_count": 2,
   "id": "03fa21e1-4ba9-4a0b-ab8e-afbb7b51c411",
   "metadata": {},
   "outputs": [
    {
     "name": "stdout",
     "output_type": "stream",
     "text": [
      "[('B', 2), ('C', 3), ('D', 1)]\n",
      "[('dislikes', 3), ('followers', 10), ('likes', 2)]\n"
     ]
    }
   ],
   "source": [
    "def dict_to_list(input_dict):\n",
    "    # Use sorted() to sort the dictionary items by keys in alphabetical order\n",
    "    sorted_items = sorted(input_dict.items())\n",
    "    \n",
    "    # Convert the sorted items to a list of tuples\n",
    "    result_list = list(sorted_items)\n",
    "    \n",
    "    return result_list\n",
    "\n",
    "print(dict_to_list({\n",
    "  \"D\": 1,\n",
    "  \"B\": 2,\n",
    "  \"C\": 3\n",
    "})) \n",
    "\n",
    "print(dict_to_list({\n",
    "  \"likes\": 2,\n",
    "  \"dislikes\": 3,\n",
    "  \"followers\": 10\n",
    "}))  \n"
   ]
  },
  {
   "cell_type": "code",
   "execution_count": null,
   "id": "5d890ba3-2e8a-4022-a14e-47b60d739661",
   "metadata": {},
   "outputs": [],
   "source": [
    "Question3\n",
    "Write a function that creates a dictionary with each (key, value) pair being the (lower case, upper case) versions of a letter, respectively.\n",
    "Examples\n",
    "mapping([\"p\", \"s\"]) ➞ { \"p\": \"P\", \"s\": \"S\" }\n",
    "\n",
    "mapping([\"a\", \"b\", \"c\"]) ➞ { \"a\": \"A\", \"b\": \"B\", \"c\": \"C\" }\n",
    "\n",
    "mapping([\"a\", \"v\", \"y\", \"z\"]) ➞ { \"a\": \"A\", \"v\": \"V\", \"y\": \"Y\", \"z\": \"Z\" }\n",
    "Notes\n",
    "All of the letters in the input list will always be lowercase."
   ]
  },
  {
   "cell_type": "code",
   "execution_count": 3,
   "id": "d5032d47-aaf5-4ec5-9a17-c344720bf90f",
   "metadata": {},
   "outputs": [
    {
     "name": "stdout",
     "output_type": "stream",
     "text": [
      "{'p': 'P', 's': 'S'}\n",
      "{'a': 'A', 'b': 'B', 'c': 'C'}\n",
      "{'a': 'A', 'v': 'V', 'y': 'Y', 'z': 'Z'}\n"
     ]
    }
   ],
   "source": [
    "def mapping(input_list):\n",
    "    # Create an empty dictionary\n",
    "    result_dict = {}\n",
    "    \n",
    "    # Iterate through the input list and create key-value pairs\n",
    "    for letter in input_list:\n",
    "        # Convert the lowercase letter to uppercase and create the key-value pair\n",
    "        result_dict[letter] = letter.upper()\n",
    "    \n",
    "    return result_dict\n",
    "\n",
    "print(mapping([\"p\", \"s\"]))         \n",
    "print(mapping([\"a\", \"b\", \"c\"]))      \n",
    "print(mapping([\"a\", \"v\", \"y\", \"z\"])) \n"
   ]
  },
  {
   "cell_type": "code",
   "execution_count": null,
   "id": "35da6cde-063e-4932-a674-d452fdfbdb71",
   "metadata": {},
   "outputs": [],
   "source": [
    "Question4\n",
    "Write a function, that replaces all vowels in a string with a specified vowel.\n",
    "Examples\n",
    "vow_replace(\"apples and bananas\", \"u\") ➞ \"upplus und bununus\"\n",
    "\n",
    "vow_replace(\"cheese casserole\", \"o\") ➞ \"chooso cossorolo\"\n",
    "\n",
    "vow_replace(\"stuffed jalapeno poppers\", \"e\") ➞ \"steffed jelepene peppers\"\n",
    "Notes\n",
    "All words will be lowercase. Y is not considered a vowel.\n"
   ]
  },
  {
   "cell_type": "code",
   "execution_count": 1,
   "id": "877bcd68-7225-40c7-b10d-5918b950bcba",
   "metadata": {},
   "outputs": [
    {
     "name": "stdout",
     "output_type": "stream",
     "text": [
      "upplus und bununus\n",
      "chooso cossorolo\n",
      "steffed jelepene peppers\n"
     ]
    }
   ],
   "source": [
    "\n",
    "def vow_replace(input_string, vowel):\n",
    "    # Define a set of vowels to check against\n",
    "    vowels = \"aeiouAEIOU\"\n",
    "    \n",
    "    # Initialize an empty result string\n",
    "    result = \"\"\n",
    "    \n",
    "    # Iterate through the characters in the input string\n",
    "    for char in input_string:\n",
    "        # If the character is a vowel, add the specified vowel to the result string\n",
    "        if char in vowels:\n",
    "            result += vowel\n",
    "        else:\n",
    "            result += char\n",
    "    \n",
    "    return result\n",
    "\n",
    "print(vow_replace(\"apples and bananas\", \"u\"))             \n",
    "print(vow_replace(\"cheese casserole\", \"o\"))              \n",
    "print(vow_replace(\"stuffed jalapeno poppers\", \"e\"))       \n"
   ]
  },
  {
   "cell_type": "code",
   "execution_count": null,
   "id": "bf40fa70-a6a8-4ce6-8610-41a618a5ba59",
   "metadata": {},
   "outputs": [],
   "source": [
    "Question5\n",
    "Create a function that takes a string as input and capitalizes a letter if its ASCII code is even and returns its lower case version if its ASCII code is odd.\n",
    "Examples\n",
    "ascii_capitalize(\"to be or not to be!\") ➞ \"To Be oR NoT To Be!\"\n",
    "\n",
    "ascii_capitalize(\"THE LITTLE MERMAID\") ➞ \"THe LiTTLe meRmaiD\"\n",
    "\n",
    "ascii_capitalize(\"Oh what a beautiful morning.\") ➞ \"oH wHaT a BeauTiFuL moRNiNg.\"\n"
   ]
  },
  {
   "cell_type": "code",
   "execution_count": 2,
   "id": "a4201c7c-5e76-432f-9c50-30d72c453215",
   "metadata": {},
   "outputs": [
    {
     "name": "stdout",
     "output_type": "stream",
     "text": [
      "To Be oR NoT To Be!\n",
      "THe LiTTLe meRmaiD\n",
      "oH wHaT a BeauTiFuL moRNiNg.\n"
     ]
    }
   ],
   "source": [
    "def ascii_capitalize(input_string):\n",
    "    # Initialize an empty result string\n",
    "    result = \"\"\n",
    "    \n",
    "    # Iterate through the characters in the input string\n",
    "    for char in input_string:\n",
    "        # Check the ASCII code of the character\n",
    "        ascii_code = ord(char)\n",
    "        \n",
    "        # Capitalize the character if the ASCII code is even, or convert it to lowercase if it's odd\n",
    "        if ascii_code % 2 == 0:\n",
    "            result += char.upper()\n",
    "        else:\n",
    "            result += char.lower()\n",
    "    \n",
    "    return result\n",
    "print(ascii_capitalize(\"to be or not to be!\"))         \n",
    "print(ascii_capitalize(\"THE LITTLE MERMAID\"))          \n",
    "print(ascii_capitalize(\"Oh what a beautiful morning.\")) \n"
   ]
  }
 ],
 "metadata": {
  "kernelspec": {
   "display_name": "Python 3 (ipykernel)",
   "language": "python",
   "name": "python3"
  },
  "language_info": {
   "codemirror_mode": {
    "name": "ipython",
    "version": 3
   },
   "file_extension": ".py",
   "mimetype": "text/x-python",
   "name": "python",
   "nbconvert_exporter": "python",
   "pygments_lexer": "ipython3",
   "version": "3.10.6"
  }
 },
 "nbformat": 4,
 "nbformat_minor": 5
}
