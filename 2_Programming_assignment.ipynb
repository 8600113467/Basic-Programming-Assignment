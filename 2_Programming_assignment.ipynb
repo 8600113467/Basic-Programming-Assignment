{
 "cells": [
  {
   "cell_type": "markdown",
   "id": "922db211-caed-43ca-bea4-d4186be1aad5",
   "metadata": {},
   "source": [
    "## Basic Programming Assignment No.2"
   ]
  },
  {
   "cell_type": "code",
   "execution_count": null,
   "id": "44681699-5d68-408b-b5bc-10f9610bdd87",
   "metadata": {},
   "outputs": [],
   "source": [
    "1.Write a Python program to convert Kilometers to Miles ?\n"
   ]
  },
  {
   "cell_type": "code",
   "execution_count": 8,
   "id": "c0b63464-a6ac-41cf-9c15-8eb504d1334a",
   "metadata": {},
   "outputs": [],
   "source": [
    "def convertors():\n",
    "    km = float(input(\"Enter no of kilometers : \"))\n",
    "    print(f\"{km} km is equal to {km*0.621371} miles\")"
   ]
  },
  {
   "cell_type": "code",
   "execution_count": 9,
   "id": "8bf1778d-7e2f-4c20-93db-6ec269226d4a",
   "metadata": {},
   "outputs": [
    {
     "name": "stdin",
     "output_type": "stream",
     "text": [
      "Enter no of kilometers :  12\n"
     ]
    },
    {
     "name": "stdout",
     "output_type": "stream",
     "text": [
      "12.0 km is equal to 7.4564520000000005 miles\n"
     ]
    }
   ],
   "source": [
    "convertors()"
   ]
  },
  {
   "cell_type": "code",
   "execution_count": null,
   "id": "ea990f46-7bd6-4b9b-a90e-4ab550cd9f9a",
   "metadata": {},
   "outputs": [],
   "source": [
    "2.Write a Python program to convert Celsius to Farenheit ?"
   ]
  },
  {
   "cell_type": "code",
   "execution_count": 2,
   "id": "56a1b743-7799-4183-aed8-506a02679eab",
   "metadata": {},
   "outputs": [],
   "source": [
    "def temp_convertor():\n",
    "    \n",
    "    celsius=float(input(\"temp: \"))\n",
    "    \n",
    "    convertor=(f'{celsius} celsius is equal to {(celsius*9/5)+32} fahrenheit')\n",
    "    \n",
    "    return convertor"
   ]
  },
  {
   "cell_type": "code",
   "execution_count": 3,
   "id": "3c984378-52bd-4769-a25d-c1ebcc2b61c1",
   "metadata": {},
   "outputs": [
    {
     "name": "stdin",
     "output_type": "stream",
     "text": [
      "temp:  38\n"
     ]
    },
    {
     "data": {
      "text/plain": [
       "'38.0 celsius is equal to 100.4 fahrenheit'"
      ]
     },
     "execution_count": 3,
     "metadata": {},
     "output_type": "execute_result"
    }
   ],
   "source": [
    "temp_convertor()"
   ]
  },
  {
   "cell_type": "code",
   "execution_count": null,
   "id": "e448da41-e47e-4beb-92b0-bc538f1a2619",
   "metadata": {},
   "outputs": [],
   "source": [
    "3.Write a Python program to display calender ?"
   ]
  },
  {
   "cell_type": "code",
   "execution_count": 5,
   "id": "9992ddd5-b105-40d8-be95-0f0c74e4fa95",
   "metadata": {},
   "outputs": [
    {
     "name": "stdin",
     "output_type": "stream",
     "text": [
      "Enter year (e.g., 2023):  9\n",
      "Enter month (1-12):  1\n"
     ]
    },
    {
     "name": "stdout",
     "output_type": "stream",
     "text": [
      "     January 9\n",
      "Su Mo Tu We Th Fr Sa\n",
      "             1  2  3\n",
      " 4  5  6  7  8  9 10\n",
      "11 12 13 14 15 16 17\n",
      "18 19 20 21 22 23 24\n",
      "25 26 27 28 29 30 31\n",
      "\n"
     ]
    }
   ],
   "source": [
    "import calendar\n",
    "\n",
    "def show_calendar(year, month):\n",
    "    # Create a TextCalendar instance\n",
    "    cal = calendar.TextCalendar(calendar.SUNDAY)  # You can change the starting day to match your preference\n",
    "\n",
    "    # Display the calendar for the given year and month\n",
    "    calendar_str = cal.formatmonth(year, month)\n",
    "    print(calendar_str)\n",
    "\n",
    "# Input year and month from the user\n",
    "year = int(input(\"Enter year (e.g., 2023): \"))\n",
    "month = int(input(\"Enter month (1-12): \"))\n",
    "\n",
    "# Display the calendar\n",
    "show_calendar(year, month)\n"
   ]
  },
  {
   "cell_type": "code",
   "execution_count": null,
   "id": "914e9584-0217-421e-b867-3242474c7550",
   "metadata": {},
   "outputs": [],
   "source": [
    "4.Write a Python program to solve quadartic equation ?"
   ]
  },
  {
   "cell_type": "code",
   "execution_count": 6,
   "id": "d622820d-6d78-40c2-9ae9-edadb5a2975e",
   "metadata": {},
   "outputs": [
    {
     "name": "stdin",
     "output_type": "stream",
     "text": [
      "Enter a value:  6\n",
      "Enter b value:  6\n",
      "Enter c value:  4\n"
     ]
    },
    {
     "name": "stdout",
     "output_type": "stream",
     "text": [
      "Roots are Imaginary (-0.5-0.6454972243679028j) (-0.5+0.6454972243679028j)\n"
     ]
    }
   ],
   "source": [
    "import cmath\n",
    "import math\n",
    "\n",
    "def quadarticEquationRoots(a,b,c):\n",
    "    \n",
    "    discriminant = b*b-4*a*c\n",
    "    \n",
    "    if discriminant == 0:\n",
    "        r1 = -b/2*a\n",
    "        r2 = -b/2*a\n",
    "        print(\"Roots are Real\",r1,r2)\n",
    "    elif discriminant > 0:\n",
    "        r1 = (-b-math.sqrt(discriminant))/(2 * a)\n",
    "        r2 = (-b+math.sqrt(discriminant))/(2 * a)\n",
    "        print(\"Roots are Real and different\",r1,r2)\n",
    "    else:\n",
    "        r1 = (-b-cmath.sqrt(discriminant))/(2 * a)\n",
    "        r2 = (-b+cmath.sqrt(discriminant))/(2 * a)\n",
    "        print(\"Roots are Imaginary\",r1,r2)\n",
    "\n",
    "\n",
    "a = int(input('Enter a value: '))\n",
    "b = int(input('Enter b value: '))\n",
    "c = int(input('Enter c value: '))\n",
    "\n",
    "quadarticEquationRoots(a,b,c)\n"
   ]
  },
  {
   "cell_type": "code",
   "execution_count": null,
   "id": "a44fb557-a270-4bed-8144-595b340be3d2",
   "metadata": {},
   "outputs": [],
   "source": [
    "5.Write a Python program to swap two variables without temp variable ?"
   ]
  },
  {
   "cell_type": "code",
   "execution_count": 1,
   "id": "15e386b4-713c-490f-b3aa-ff74e97fe264",
   "metadata": {},
   "outputs": [
    {
     "name": "stdin",
     "output_type": "stream",
     "text": [
      "Enter first number:  1\n",
      "Enter second number:  2\n"
     ]
    },
    {
     "name": "stdout",
     "output_type": "stream",
     "text": [
      "Before Swapping   a: 1 b: 2\n",
      "After Swapping     a: 2 b: 1\n"
     ]
    }
   ],
   "source": [
    "a = int(input('Enter first number: '))\n",
    "b = int(input('Enter second number: '))\n",
    "\n",
    "def swapNumbers(num_1,num_2):\n",
    "        print('Before Swapping  ',\"a:\",num_1,\"b:\",num_2)\n",
    "        num_1 = num_1+num_2\n",
    "        num_2 = num_1-num_2\n",
    "        num_1 = num_1-num_2\n",
    "        print('After Swapping    ',\"a:\",num_1,\"b:\",num_2)\n",
    "swapNumbers(a,b)"
   ]
  }
 ],
 "metadata": {
  "kernelspec": {
   "display_name": "Python 3 (ipykernel)",
   "language": "python",
   "name": "python3"
  },
  "language_info": {
   "codemirror_mode": {
    "name": "ipython",
    "version": 3
   },
   "file_extension": ".py",
   "mimetype": "text/x-python",
   "name": "python",
   "nbconvert_exporter": "python",
   "pygments_lexer": "ipython3",
   "version": "3.10.6"
  }
 },
 "nbformat": 4,
 "nbformat_minor": 5
}
